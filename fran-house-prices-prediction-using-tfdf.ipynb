{
 "cells": [
  {
   "cell_type": "markdown",
   "id": "9bb2fecb",
   "metadata": {
    "papermill": {
     "duration": 0.021398,
     "end_time": "2023-05-20T05:48:34.120286",
     "exception": false,
     "start_time": "2023-05-20T05:48:34.098888",
     "status": "completed"
    },
    "tags": []
   },
   "source": [
    "## Libraries"
   ]
  },
  {
   "cell_type": "code",
   "execution_count": 1,
   "id": "a8e2162e",
   "metadata": {
    "execution": {
     "iopub.execute_input": "2023-05-20T05:48:34.160821Z",
     "iopub.status.busy": "2023-05-20T05:48:34.159826Z",
     "iopub.status.idle": "2023-05-20T05:48:44.432407Z",
     "shell.execute_reply": "2023-05-20T05:48:44.431127Z"
    },
    "papermill": {
     "duration": 10.296005,
     "end_time": "2023-05-20T05:48:44.435169",
     "exception": false,
     "start_time": "2023-05-20T05:48:34.139164",
     "status": "completed"
    },
    "tags": []
   },
   "outputs": [
    {
     "name": "stderr",
     "output_type": "stream",
     "text": [
      "/opt/conda/lib/python3.10/site-packages/scipy/__init__.py:146: UserWarning: A NumPy version >=1.16.5 and <1.23.0 is required for this version of SciPy (detected version 1.23.5\n",
      "  warnings.warn(f\"A NumPy version >={np_minversion} and <{np_maxversion}\"\n"
     ]
    }
   ],
   "source": [
    "import tensorflow as tf\n",
    "import tensorflow_decision_forests as tfdf\n",
    "import pandas as pd\n",
    "import seaborn as sns\n",
    "import matplotlib.pyplot as plt\n",
    "import numpy as np"
   ]
  },
  {
   "cell_type": "markdown",
   "id": "85c91659",
   "metadata": {
    "papermill": {
     "duration": 0.018946,
     "end_time": "2023-05-20T05:48:44.473017",
     "exception": false,
     "start_time": "2023-05-20T05:48:44.454071",
     "status": "completed"
    },
    "tags": []
   },
   "source": [
    "## Load the data"
   ]
  },
  {
   "cell_type": "code",
   "execution_count": 2,
   "id": "64b8e38f",
   "metadata": {
    "execution": {
     "iopub.execute_input": "2023-05-20T05:48:44.514176Z",
     "iopub.status.busy": "2023-05-20T05:48:44.513275Z",
     "iopub.status.idle": "2023-05-20T05:48:44.563265Z",
     "shell.execute_reply": "2023-05-20T05:48:44.562200Z"
    },
    "papermill": {
     "duration": 0.072915,
     "end_time": "2023-05-20T05:48:44.566101",
     "exception": false,
     "start_time": "2023-05-20T05:48:44.493186",
     "status": "completed"
    },
    "tags": []
   },
   "outputs": [],
   "source": [
    "train_file_path = \"../input/house-prices-advanced-regression-techniques/train.csv\"\n",
    "dataset_df = pd.read_csv(train_file_path)"
   ]
  },
  {
   "cell_type": "markdown",
   "id": "023bb9a0",
   "metadata": {
    "papermill": {
     "duration": 0.018488,
     "end_time": "2023-05-20T05:48:44.603845",
     "exception": false,
     "start_time": "2023-05-20T05:48:44.585357",
     "status": "completed"
    },
    "tags": []
   },
   "source": [
    "Show the first rows to see how its the dataset"
   ]
  },
  {
   "cell_type": "code",
   "execution_count": 3,
   "id": "3080224d",
   "metadata": {
    "execution": {
     "iopub.execute_input": "2023-05-20T05:48:44.643200Z",
     "iopub.status.busy": "2023-05-20T05:48:44.642792Z",
     "iopub.status.idle": "2023-05-20T05:48:44.693890Z",
     "shell.execute_reply": "2023-05-20T05:48:44.692670Z"
    },
    "papermill": {
     "duration": 0.073727,
     "end_time": "2023-05-20T05:48:44.696226",
     "exception": false,
     "start_time": "2023-05-20T05:48:44.622499",
     "status": "completed"
    },
    "tags": []
   },
   "outputs": [
    {
     "data": {
      "text/html": [
       "<div>\n",
       "<style scoped>\n",
       "    .dataframe tbody tr th:only-of-type {\n",
       "        vertical-align: middle;\n",
       "    }\n",
       "\n",
       "    .dataframe tbody tr th {\n",
       "        vertical-align: top;\n",
       "    }\n",
       "\n",
       "    .dataframe thead th {\n",
       "        text-align: right;\n",
       "    }\n",
       "</style>\n",
       "<table border=\"1\" class=\"dataframe\">\n",
       "  <thead>\n",
       "    <tr style=\"text-align: right;\">\n",
       "      <th></th>\n",
       "      <th>Id</th>\n",
       "      <th>MSSubClass</th>\n",
       "      <th>MSZoning</th>\n",
       "      <th>LotFrontage</th>\n",
       "      <th>LotArea</th>\n",
       "      <th>Street</th>\n",
       "      <th>Alley</th>\n",
       "      <th>LotShape</th>\n",
       "      <th>LandContour</th>\n",
       "      <th>Utilities</th>\n",
       "      <th>...</th>\n",
       "      <th>PoolArea</th>\n",
       "      <th>PoolQC</th>\n",
       "      <th>Fence</th>\n",
       "      <th>MiscFeature</th>\n",
       "      <th>MiscVal</th>\n",
       "      <th>MoSold</th>\n",
       "      <th>YrSold</th>\n",
       "      <th>SaleType</th>\n",
       "      <th>SaleCondition</th>\n",
       "      <th>SalePrice</th>\n",
       "    </tr>\n",
       "  </thead>\n",
       "  <tbody>\n",
       "    <tr>\n",
       "      <th>0</th>\n",
       "      <td>1</td>\n",
       "      <td>60</td>\n",
       "      <td>RL</td>\n",
       "      <td>65.0</td>\n",
       "      <td>8450</td>\n",
       "      <td>Pave</td>\n",
       "      <td>NaN</td>\n",
       "      <td>Reg</td>\n",
       "      <td>Lvl</td>\n",
       "      <td>AllPub</td>\n",
       "      <td>...</td>\n",
       "      <td>0</td>\n",
       "      <td>NaN</td>\n",
       "      <td>NaN</td>\n",
       "      <td>NaN</td>\n",
       "      <td>0</td>\n",
       "      <td>2</td>\n",
       "      <td>2008</td>\n",
       "      <td>WD</td>\n",
       "      <td>Normal</td>\n",
       "      <td>208500</td>\n",
       "    </tr>\n",
       "    <tr>\n",
       "      <th>1</th>\n",
       "      <td>2</td>\n",
       "      <td>20</td>\n",
       "      <td>RL</td>\n",
       "      <td>80.0</td>\n",
       "      <td>9600</td>\n",
       "      <td>Pave</td>\n",
       "      <td>NaN</td>\n",
       "      <td>Reg</td>\n",
       "      <td>Lvl</td>\n",
       "      <td>AllPub</td>\n",
       "      <td>...</td>\n",
       "      <td>0</td>\n",
       "      <td>NaN</td>\n",
       "      <td>NaN</td>\n",
       "      <td>NaN</td>\n",
       "      <td>0</td>\n",
       "      <td>5</td>\n",
       "      <td>2007</td>\n",
       "      <td>WD</td>\n",
       "      <td>Normal</td>\n",
       "      <td>181500</td>\n",
       "    </tr>\n",
       "    <tr>\n",
       "      <th>2</th>\n",
       "      <td>3</td>\n",
       "      <td>60</td>\n",
       "      <td>RL</td>\n",
       "      <td>68.0</td>\n",
       "      <td>11250</td>\n",
       "      <td>Pave</td>\n",
       "      <td>NaN</td>\n",
       "      <td>IR1</td>\n",
       "      <td>Lvl</td>\n",
       "      <td>AllPub</td>\n",
       "      <td>...</td>\n",
       "      <td>0</td>\n",
       "      <td>NaN</td>\n",
       "      <td>NaN</td>\n",
       "      <td>NaN</td>\n",
       "      <td>0</td>\n",
       "      <td>9</td>\n",
       "      <td>2008</td>\n",
       "      <td>WD</td>\n",
       "      <td>Normal</td>\n",
       "      <td>223500</td>\n",
       "    </tr>\n",
       "  </tbody>\n",
       "</table>\n",
       "<p>3 rows × 81 columns</p>\n",
       "</div>"
      ],
      "text/plain": [
       "   Id  MSSubClass MSZoning  LotFrontage  LotArea Street Alley LotShape  \\\n",
       "0   1          60       RL         65.0     8450   Pave   NaN      Reg   \n",
       "1   2          20       RL         80.0     9600   Pave   NaN      Reg   \n",
       "2   3          60       RL         68.0    11250   Pave   NaN      IR1   \n",
       "\n",
       "  LandContour Utilities  ... PoolArea PoolQC Fence MiscFeature MiscVal MoSold  \\\n",
       "0         Lvl    AllPub  ...        0    NaN   NaN         NaN       0      2   \n",
       "1         Lvl    AllPub  ...        0    NaN   NaN         NaN       0      5   \n",
       "2         Lvl    AllPub  ...        0    NaN   NaN         NaN       0      9   \n",
       "\n",
       "  YrSold  SaleType  SaleCondition  SalePrice  \n",
       "0   2008        WD         Normal     208500  \n",
       "1   2007        WD         Normal     181500  \n",
       "2   2008        WD         Normal     223500  \n",
       "\n",
       "[3 rows x 81 columns]"
      ]
     },
     "execution_count": 3,
     "metadata": {},
     "output_type": "execute_result"
    }
   ],
   "source": [
    "dataset_df.head(3)"
   ]
  },
  {
   "cell_type": "markdown",
   "id": "7c077028",
   "metadata": {
    "papermill": {
     "duration": 0.018819,
     "end_time": "2023-05-20T05:48:44.734334",
     "exception": false,
     "start_time": "2023-05-20T05:48:44.715515",
     "status": "completed"
    },
    "tags": []
   },
   "source": [
    "Inspect how many row and columns does it have"
   ]
  },
  {
   "cell_type": "code",
   "execution_count": 4,
   "id": "7af2b3ab",
   "metadata": {
    "execution": {
     "iopub.execute_input": "2023-05-20T05:48:44.774468Z",
     "iopub.status.busy": "2023-05-20T05:48:44.774009Z",
     "iopub.status.idle": "2023-05-20T05:48:44.779711Z",
     "shell.execute_reply": "2023-05-20T05:48:44.778560Z"
    },
    "papermill": {
     "duration": 0.029053,
     "end_time": "2023-05-20T05:48:44.782505",
     "exception": false,
     "start_time": "2023-05-20T05:48:44.753452",
     "status": "completed"
    },
    "tags": []
   },
   "outputs": [
    {
     "name": "stdout",
     "output_type": "stream",
     "text": [
      "   Rows: 1460\n",
      "Columns: 81\n"
     ]
    }
   ],
   "source": [
    "print(f\"   Rows: {dataset_df.shape[0]}\")\n",
    "print(f\"Columns: {dataset_df.shape[1]}\")"
   ]
  },
  {
   "cell_type": "markdown",
   "id": "34dec082",
   "metadata": {
    "papermill": {
     "duration": 0.018836,
     "end_time": "2023-05-20T05:48:44.821045",
     "exception": false,
     "start_time": "2023-05-20T05:48:44.802209",
     "status": "completed"
    },
    "tags": []
   },
   "source": [
    "Show the columns of the dataset"
   ]
  },
  {
   "cell_type": "code",
   "execution_count": 5,
   "id": "7bacb031",
   "metadata": {
    "execution": {
     "iopub.execute_input": "2023-05-20T05:48:44.862184Z",
     "iopub.status.busy": "2023-05-20T05:48:44.861786Z",
     "iopub.status.idle": "2023-05-20T05:48:44.867877Z",
     "shell.execute_reply": "2023-05-20T05:48:44.866704Z"
    },
    "papermill": {
     "duration": 0.030071,
     "end_time": "2023-05-20T05:48:44.870746",
     "exception": false,
     "start_time": "2023-05-20T05:48:44.840675",
     "status": "completed"
    },
    "tags": []
   },
   "outputs": [
    {
     "name": "stdout",
     "output_type": "stream",
     "text": [
      "['Id', 'MSSubClass', 'MSZoning', 'LotFrontage', 'LotArea', 'Street', 'Alley', 'LotShape', 'LandContour', 'Utilities', 'LotConfig', 'LandSlope', 'Neighborhood', 'Condition1', 'Condition2', 'BldgType', 'HouseStyle', 'OverallQual', 'OverallCond', 'YearBuilt', 'YearRemodAdd', 'RoofStyle', 'RoofMatl', 'Exterior1st', 'Exterior2nd', 'MasVnrType', 'MasVnrArea', 'ExterQual', 'ExterCond', 'Foundation', 'BsmtQual', 'BsmtCond', 'BsmtExposure', 'BsmtFinType1', 'BsmtFinSF1', 'BsmtFinType2', 'BsmtFinSF2', 'BsmtUnfSF', 'TotalBsmtSF', 'Heating', 'HeatingQC', 'CentralAir', 'Electrical', '1stFlrSF', '2ndFlrSF', 'LowQualFinSF', 'GrLivArea', 'BsmtFullBath', 'BsmtHalfBath', 'FullBath', 'HalfBath', 'BedroomAbvGr', 'KitchenAbvGr', 'KitchenQual', 'TotRmsAbvGrd', 'Functional', 'Fireplaces', 'FireplaceQu', 'GarageType', 'GarageYrBlt', 'GarageFinish', 'GarageCars', 'GarageArea', 'GarageQual', 'GarageCond', 'PavedDrive', 'WoodDeckSF', 'OpenPorchSF', 'EnclosedPorch', '3SsnPorch', 'ScreenPorch', 'PoolArea', 'PoolQC', 'Fence', 'MiscFeature', 'MiscVal', 'MoSold', 'YrSold', 'SaleType', 'SaleCondition', 'SalePrice']\n"
     ]
    }
   ],
   "source": [
    "print([col for col in dataset_df.columns])"
   ]
  },
  {
   "cell_type": "markdown",
   "id": "0bb50fa3",
   "metadata": {
    "papermill": {
     "duration": 0.020083,
     "end_time": "2023-05-20T05:48:44.910420",
     "exception": false,
     "start_time": "2023-05-20T05:48:44.890337",
     "status": "completed"
    },
    "tags": []
   },
   "source": [
    "**SalesPrice** is the column to predict"
   ]
  },
  {
   "cell_type": "code",
   "execution_count": 6,
   "id": "18b1c0c4",
   "metadata": {
    "execution": {
     "iopub.execute_input": "2023-05-20T05:48:44.951776Z",
     "iopub.status.busy": "2023-05-20T05:48:44.951350Z",
     "iopub.status.idle": "2023-05-20T05:48:44.958480Z",
     "shell.execute_reply": "2023-05-20T05:48:44.957695Z"
    },
    "papermill": {
     "duration": 0.030919,
     "end_time": "2023-05-20T05:48:44.960783",
     "exception": false,
     "start_time": "2023-05-20T05:48:44.929864",
     "status": "completed"
    },
    "tags": []
   },
   "outputs": [
    {
     "data": {
      "text/plain": [
       "0    208500\n",
       "1    181500\n",
       "2    223500\n",
       "Name: SalePrice, dtype: int64"
      ]
     },
     "execution_count": 6,
     "metadata": {},
     "output_type": "execute_result"
    }
   ],
   "source": [
    "dataset_df['SalePrice'].head(3)"
   ]
  },
  {
   "cell_type": "markdown",
   "id": "9218b86b",
   "metadata": {
    "papermill": {
     "duration": 0.019296,
     "end_time": "2023-05-20T05:48:44.999601",
     "exception": false,
     "start_time": "2023-05-20T05:48:44.980305",
     "status": "completed"
    },
    "tags": []
   },
   "source": [
    "We can drop the column Id as it doesn't give us information"
   ]
  },
  {
   "cell_type": "code",
   "execution_count": 7,
   "id": "2707e0b2",
   "metadata": {
    "execution": {
     "iopub.execute_input": "2023-05-20T05:48:45.042251Z",
     "iopub.status.busy": "2023-05-20T05:48:45.041844Z",
     "iopub.status.idle": "2023-05-20T05:48:45.050241Z",
     "shell.execute_reply": "2023-05-20T05:48:45.049141Z"
    },
    "papermill": {
     "duration": 0.03244,
     "end_time": "2023-05-20T05:48:45.052522",
     "exception": false,
     "start_time": "2023-05-20T05:48:45.020082",
     "status": "completed"
    },
    "tags": []
   },
   "outputs": [],
   "source": [
    "dataset_df = dataset_df.drop('Id', axis=1)"
   ]
  },
  {
   "cell_type": "markdown",
   "id": "6ae0a191",
   "metadata": {
    "execution": {
     "iopub.execute_input": "2023-05-15T15:27:26.944777Z",
     "iopub.status.busy": "2023-05-15T15:27:26.944463Z",
     "iopub.status.idle": "2023-05-15T15:27:26.950596Z",
     "shell.execute_reply": "2023-05-15T15:27:26.949316Z",
     "shell.execute_reply.started": "2023-05-15T15:27:26.944754Z"
    },
    "papermill": {
     "duration": 0.019421,
     "end_time": "2023-05-20T05:48:45.091779",
     "exception": false,
     "start_time": "2023-05-20T05:48:45.072358",
     "status": "completed"
    },
    "tags": []
   },
   "source": [
    "Inspect the __type of the features__"
   ]
  },
  {
   "cell_type": "code",
   "execution_count": 8,
   "id": "04b8d87d",
   "metadata": {
    "execution": {
     "iopub.execute_input": "2023-05-20T05:48:45.132214Z",
     "iopub.status.busy": "2023-05-20T05:48:45.131825Z",
     "iopub.status.idle": "2023-05-20T05:48:45.179330Z",
     "shell.execute_reply": "2023-05-20T05:48:45.178039Z"
    },
    "papermill": {
     "duration": 0.070976,
     "end_time": "2023-05-20T05:48:45.182251",
     "exception": false,
     "start_time": "2023-05-20T05:48:45.111275",
     "status": "completed"
    },
    "tags": []
   },
   "outputs": [
    {
     "name": "stdout",
     "output_type": "stream",
     "text": [
      "<class 'pandas.core.frame.DataFrame'>\n",
      "RangeIndex: 1460 entries, 0 to 1459\n",
      "Data columns (total 80 columns):\n",
      " #   Column         Non-Null Count  Dtype  \n",
      "---  ------         --------------  -----  \n",
      " 0   MSSubClass     1460 non-null   int64  \n",
      " 1   MSZoning       1460 non-null   object \n",
      " 2   LotFrontage    1201 non-null   float64\n",
      " 3   LotArea        1460 non-null   int64  \n",
      " 4   Street         1460 non-null   object \n",
      " 5   Alley          91 non-null     object \n",
      " 6   LotShape       1460 non-null   object \n",
      " 7   LandContour    1460 non-null   object \n",
      " 8   Utilities      1460 non-null   object \n",
      " 9   LotConfig      1460 non-null   object \n",
      " 10  LandSlope      1460 non-null   object \n",
      " 11  Neighborhood   1460 non-null   object \n",
      " 12  Condition1     1460 non-null   object \n",
      " 13  Condition2     1460 non-null   object \n",
      " 14  BldgType       1460 non-null   object \n",
      " 15  HouseStyle     1460 non-null   object \n",
      " 16  OverallQual    1460 non-null   int64  \n",
      " 17  OverallCond    1460 non-null   int64  \n",
      " 18  YearBuilt      1460 non-null   int64  \n",
      " 19  YearRemodAdd   1460 non-null   int64  \n",
      " 20  RoofStyle      1460 non-null   object \n",
      " 21  RoofMatl       1460 non-null   object \n",
      " 22  Exterior1st    1460 non-null   object \n",
      " 23  Exterior2nd    1460 non-null   object \n",
      " 24  MasVnrType     1452 non-null   object \n",
      " 25  MasVnrArea     1452 non-null   float64\n",
      " 26  ExterQual      1460 non-null   object \n",
      " 27  ExterCond      1460 non-null   object \n",
      " 28  Foundation     1460 non-null   object \n",
      " 29  BsmtQual       1423 non-null   object \n",
      " 30  BsmtCond       1423 non-null   object \n",
      " 31  BsmtExposure   1422 non-null   object \n",
      " 32  BsmtFinType1   1423 non-null   object \n",
      " 33  BsmtFinSF1     1460 non-null   int64  \n",
      " 34  BsmtFinType2   1422 non-null   object \n",
      " 35  BsmtFinSF2     1460 non-null   int64  \n",
      " 36  BsmtUnfSF      1460 non-null   int64  \n",
      " 37  TotalBsmtSF    1460 non-null   int64  \n",
      " 38  Heating        1460 non-null   object \n",
      " 39  HeatingQC      1460 non-null   object \n",
      " 40  CentralAir     1460 non-null   object \n",
      " 41  Electrical     1459 non-null   object \n",
      " 42  1stFlrSF       1460 non-null   int64  \n",
      " 43  2ndFlrSF       1460 non-null   int64  \n",
      " 44  LowQualFinSF   1460 non-null   int64  \n",
      " 45  GrLivArea      1460 non-null   int64  \n",
      " 46  BsmtFullBath   1460 non-null   int64  \n",
      " 47  BsmtHalfBath   1460 non-null   int64  \n",
      " 48  FullBath       1460 non-null   int64  \n",
      " 49  HalfBath       1460 non-null   int64  \n",
      " 50  BedroomAbvGr   1460 non-null   int64  \n",
      " 51  KitchenAbvGr   1460 non-null   int64  \n",
      " 52  KitchenQual    1460 non-null   object \n",
      " 53  TotRmsAbvGrd   1460 non-null   int64  \n",
      " 54  Functional     1460 non-null   object \n",
      " 55  Fireplaces     1460 non-null   int64  \n",
      " 56  FireplaceQu    770 non-null    object \n",
      " 57  GarageType     1379 non-null   object \n",
      " 58  GarageYrBlt    1379 non-null   float64\n",
      " 59  GarageFinish   1379 non-null   object \n",
      " 60  GarageCars     1460 non-null   int64  \n",
      " 61  GarageArea     1460 non-null   int64  \n",
      " 62  GarageQual     1379 non-null   object \n",
      " 63  GarageCond     1379 non-null   object \n",
      " 64  PavedDrive     1460 non-null   object \n",
      " 65  WoodDeckSF     1460 non-null   int64  \n",
      " 66  OpenPorchSF    1460 non-null   int64  \n",
      " 67  EnclosedPorch  1460 non-null   int64  \n",
      " 68  3SsnPorch      1460 non-null   int64  \n",
      " 69  ScreenPorch    1460 non-null   int64  \n",
      " 70  PoolArea       1460 non-null   int64  \n",
      " 71  PoolQC         7 non-null      object \n",
      " 72  Fence          281 non-null    object \n",
      " 73  MiscFeature    54 non-null     object \n",
      " 74  MiscVal        1460 non-null   int64  \n",
      " 75  MoSold         1460 non-null   int64  \n",
      " 76  YrSold         1460 non-null   int64  \n",
      " 77  SaleType       1460 non-null   object \n",
      " 78  SaleCondition  1460 non-null   object \n",
      " 79  SalePrice      1460 non-null   int64  \n",
      "dtypes: float64(3), int64(34), object(43)\n",
      "memory usage: 912.6+ KB\n"
     ]
    }
   ],
   "source": [
    "dataset_df.info()"
   ]
  },
  {
   "cell_type": "markdown",
   "id": "71c2dd4b",
   "metadata": {
    "papermill": {
     "duration": 0.019338,
     "end_time": "2023-05-20T05:48:45.222064",
     "exception": false,
     "start_time": "2023-05-20T05:48:45.202726",
     "status": "completed"
    },
    "tags": []
   },
   "source": [
    "## House Price Distribution"
   ]
  },
  {
   "cell_type": "markdown",
   "id": "f1c5b3c8",
   "metadata": {
    "papermill": {
     "duration": 0.019598,
     "end_time": "2023-05-20T05:48:45.261640",
     "exception": false,
     "start_time": "2023-05-20T05:48:45.242042",
     "status": "completed"
    },
    "tags": []
   },
   "source": [
    "As the price is the target variable we want to predict. It would be interesting to know __how it is distributed__."
   ]
  },
  {
   "cell_type": "code",
   "execution_count": 9,
   "id": "04233abb",
   "metadata": {
    "execution": {
     "iopub.execute_input": "2023-05-20T05:48:45.303918Z",
     "iopub.status.busy": "2023-05-20T05:48:45.303129Z",
     "iopub.status.idle": "2023-05-20T05:48:45.785702Z",
     "shell.execute_reply": "2023-05-20T05:48:45.784673Z"
    },
    "papermill": {
     "duration": 0.506054,
     "end_time": "2023-05-20T05:48:45.788162",
     "exception": false,
     "start_time": "2023-05-20T05:48:45.282108",
     "status": "completed"
    },
    "tags": []
   },
   "outputs": [
    {
     "name": "stdout",
     "output_type": "stream",
     "text": [
      "count      1460.000000\n",
      "mean     180921.195890\n",
      "std       79442.502883\n",
      "min       34900.000000\n",
      "25%      129975.000000\n",
      "50%      163000.000000\n",
      "75%      214000.000000\n",
      "max      755000.000000\n",
      "Name: SalePrice, dtype: float64\n"
     ]
    },
    {
     "name": "stderr",
     "output_type": "stream",
     "text": [
      "/tmp/ipykernel_20/1482814628.py:3: UserWarning: \n",
      "\n",
      "`distplot` is a deprecated function and will be removed in seaborn v0.14.0.\n",
      "\n",
      "Please adapt your code to use either `displot` (a figure-level function with\n",
      "similar flexibility) or `histplot` (an axes-level function for histograms).\n",
      "\n",
      "For a guide to updating your code to use the new functions, please see\n",
      "https://gist.github.com/mwaskom/de44147ed2974457ad6372750bbe5751\n",
      "\n",
      "  sns.distplot(\n"
     ]
    },
    {
     "data": {
      "image/png": "[encoded data removed]",
      "text/plain": [
       "<Figure size 640x480 with 1 Axes>"
      ]
     },
     "metadata": {},
     "output_type": "display_data"
    }
   ],
   "source": [
    "print(dataset_df['SalePrice'].describe())\n",
    "\n",
    "sns.distplot(\n",
    "    dataset_df['SalePrice'], \n",
    "    color='g', \n",
    "    bins=100\n",
    ");"
   ]
  },
  {
   "cell_type": "markdown",
   "id": "31ae0680",
   "metadata": {
    "papermill": {
     "duration": 0.019927,
     "end_time": "2023-05-20T05:48:45.828437",
     "exception": false,
     "start_time": "2023-05-20T05:48:45.808510",
     "status": "completed"
    },
    "tags": []
   },
   "source": [
    "## Numerical data distribution"
   ]
  },
  {
   "cell_type": "markdown",
   "id": "ff276d5c",
   "metadata": {
    "papermill": {
     "duration": 0.020218,
     "end_time": "2023-05-20T05:48:45.869498",
     "exception": false,
     "start_time": "2023-05-20T05:48:45.849280",
     "status": "completed"
    },
    "tags": []
   },
   "source": [
    "We will take a look at how the numerical features are distributed. To do this, let us first list all the types of data from our dataset and select only the numerical ones."
   ]
  },
  {
   "cell_type": "code",
   "execution_count": 10,
   "id": "be5a5534",
   "metadata": {
    "execution": {
     "iopub.execute_input": "2023-05-20T05:48:45.914682Z",
     "iopub.status.busy": "2023-05-20T05:48:45.913890Z",
     "iopub.status.idle": "2023-05-20T05:48:45.920841Z",
     "shell.execute_reply": "2023-05-20T05:48:45.919435Z"
    },
    "papermill": {
     "duration": 0.031339,
     "end_time": "2023-05-20T05:48:45.923297",
     "exception": false,
     "start_time": "2023-05-20T05:48:45.891958",
     "status": "completed"
    },
    "tags": []
   },
   "outputs": [
    {
     "name": "stdout",
     "output_type": "stream",
     "text": [
      "Types of data: {dtype('float64'), dtype('int64'), dtype('O')}\n"
     ]
    }
   ],
   "source": [
    "data_types = set(dataset_df.dtypes.tolist())\n",
    "print(f\"Types of data: {data_types}\")"
   ]
  },
  {
   "cell_type": "markdown",
   "id": "a8d3531f",
   "metadata": {
    "papermill": {
     "duration": 0.020397,
     "end_time": "2023-05-20T05:48:45.964458",
     "exception": false,
     "start_time": "2023-05-20T05:48:45.944061",
     "status": "completed"
    },
    "tags": []
   },
   "source": [
    "As we can see we have Strings, Integers, and Floats. We want to inspect the numerical variables apart of the cathegorical ones. "
   ]
  },
  {
   "cell_type": "markdown",
   "id": "4bd6325c",
   "metadata": {
    "papermill": {
     "duration": 0.019947,
     "end_time": "2023-05-20T05:48:46.004745",
     "exception": false,
     "start_time": "2023-05-20T05:48:45.984798",
     "status": "completed"
    },
    "tags": []
   },
   "source": [
    "## Select numerical features"
   ]
  },
  {
   "cell_type": "code",
   "execution_count": 11,
   "id": "da88b228",
   "metadata": {
    "execution": {
     "iopub.execute_input": "2023-05-20T05:48:46.047745Z",
     "iopub.status.busy": "2023-05-20T05:48:46.047100Z",
     "iopub.status.idle": "2023-05-20T05:48:46.068263Z",
     "shell.execute_reply": "2023-05-20T05:48:46.067138Z"
    },
    "papermill": {
     "duration": 0.045498,
     "end_time": "2023-05-20T05:48:46.070660",
     "exception": false,
     "start_time": "2023-05-20T05:48:46.025162",
     "status": "completed"
    },
    "tags": []
   },
   "outputs": [
    {
     "data": {
      "text/html": [
       "<div>\n",
       "<style scoped>\n",
       "    .dataframe tbody tr th:only-of-type {\n",
       "        vertical-align: middle;\n",
       "    }\n",
       "\n",
       "    .dataframe tbody tr th {\n",
       "        vertical-align: top;\n",
       "    }\n",
       "\n",
       "    .dataframe thead th {\n",
       "        text-align: right;\n",
       "    }\n",
       "</style>\n",
       "<table border=\"1\" class=\"dataframe\">\n",
       "  <thead>\n",
       "    <tr style=\"text-align: right;\">\n",
       "      <th></th>\n",
       "      <th>MSSubClass</th>\n",
       "      <th>LotFrontage</th>\n",
       "      <th>LotArea</th>\n",
       "      <th>OverallQual</th>\n",
       "      <th>OverallCond</th>\n",
       "      <th>YearBuilt</th>\n",
       "      <th>YearRemodAdd</th>\n",
       "      <th>MasVnrArea</th>\n",
       "      <th>BsmtFinSF1</th>\n",
       "      <th>BsmtFinSF2</th>\n",
       "      <th>...</th>\n",
       "      <th>WoodDeckSF</th>\n",
       "      <th>OpenPorchSF</th>\n",
       "      <th>EnclosedPorch</th>\n",
       "      <th>3SsnPorch</th>\n",
       "      <th>ScreenPorch</th>\n",
       "      <th>PoolArea</th>\n",
       "      <th>MiscVal</th>\n",
       "      <th>MoSold</th>\n",
       "      <th>YrSold</th>\n",
       "      <th>SalePrice</th>\n",
       "    </tr>\n",
       "  </thead>\n",
       "  <tbody>\n",
       "    <tr>\n",
       "      <th>0</th>\n",
       "      <td>60</td>\n",
       "      <td>65.0</td>\n",
       "      <td>8450</td>\n",
       "      <td>7</td>\n",
       "      <td>5</td>\n",
       "      <td>2003</td>\n",
       "      <td>2003</td>\n",
       "      <td>196.0</td>\n",
       "      <td>706</td>\n",
       "      <td>0</td>\n",
       "      <td>...</td>\n",
       "      <td>0</td>\n",
       "      <td>61</td>\n",
       "      <td>0</td>\n",
       "      <td>0</td>\n",
       "      <td>0</td>\n",
       "      <td>0</td>\n",
       "      <td>0</td>\n",
       "      <td>2</td>\n",
       "      <td>2008</td>\n",
       "      <td>208500</td>\n",
       "    </tr>\n",
       "    <tr>\n",
       "      <th>1</th>\n",
       "      <td>20</td>\n",
       "      <td>80.0</td>\n",
       "      <td>9600</td>\n",
       "      <td>6</td>\n",
       "      <td>8</td>\n",
       "      <td>1976</td>\n",
       "      <td>1976</td>\n",
       "      <td>0.0</td>\n",
       "      <td>978</td>\n",
       "      <td>0</td>\n",
       "      <td>...</td>\n",
       "      <td>298</td>\n",
       "      <td>0</td>\n",
       "      <td>0</td>\n",
       "      <td>0</td>\n",
       "      <td>0</td>\n",
       "      <td>0</td>\n",
       "      <td>0</td>\n",
       "      <td>5</td>\n",
       "      <td>2007</td>\n",
       "      <td>181500</td>\n",
       "    </tr>\n",
       "    <tr>\n",
       "      <th>2</th>\n",
       "      <td>60</td>\n",
       "      <td>68.0</td>\n",
       "      <td>11250</td>\n",
       "      <td>7</td>\n",
       "      <td>5</td>\n",
       "      <td>2001</td>\n",
       "      <td>2002</td>\n",
       "      <td>162.0</td>\n",
       "      <td>486</td>\n",
       "      <td>0</td>\n",
       "      <td>...</td>\n",
       "      <td>0</td>\n",
       "      <td>42</td>\n",
       "      <td>0</td>\n",
       "      <td>0</td>\n",
       "      <td>0</td>\n",
       "      <td>0</td>\n",
       "      <td>0</td>\n",
       "      <td>9</td>\n",
       "      <td>2008</td>\n",
       "      <td>223500</td>\n",
       "    </tr>\n",
       "  </tbody>\n",
       "</table>\n",
       "<p>3 rows × 37 columns</p>\n",
       "</div>"
      ],
      "text/plain": [
       "   MSSubClass  LotFrontage  LotArea  OverallQual  OverallCond  YearBuilt  \\\n",
       "0          60         65.0     8450            7            5       2003   \n",
       "1          20         80.0     9600            6            8       1976   \n",
       "2          60         68.0    11250            7            5       2001   \n",
       "\n",
       "   YearRemodAdd  MasVnrArea  BsmtFinSF1  BsmtFinSF2  ...  WoodDeckSF  \\\n",
       "0          2003       196.0         706           0  ...           0   \n",
       "1          1976         0.0         978           0  ...         298   \n",
       "2          2002       162.0         486           0  ...           0   \n",
       "\n",
       "   OpenPorchSF  EnclosedPorch  3SsnPorch  ScreenPorch  PoolArea  MiscVal  \\\n",
       "0           61              0          0            0         0        0   \n",
       "1            0              0          0            0         0        0   \n",
       "2           42              0          0            0         0        0   \n",
       "\n",
       "   MoSold  YrSold  SalePrice  \n",
       "0       2    2008     208500  \n",
       "1       5    2007     181500  \n",
       "2       9    2008     223500  \n",
       "\n",
       "[3 rows x 37 columns]"
      ]
     },
     "execution_count": 11,
     "metadata": {},
     "output_type": "execute_result"
    }
   ],
   "source": [
    "df_num = dataset_df.select_dtypes(include=['float64', 'int64'])\n",
    "# Show the first rows\n",
    "df_num.head(3)"
   ]
  },
  {
   "cell_type": "markdown",
   "id": "3a76acc9",
   "metadata": {
    "papermill": {
     "duration": 0.020408,
     "end_time": "2023-05-20T05:48:46.111820",
     "exception": false,
     "start_time": "2023-05-20T05:48:46.091412",
     "status": "completed"
    },
    "tags": []
   },
   "source": [
    "Now, let us plot the __distribution for each numerical feature__"
   ]
  },
  {
   "cell_type": "code",
   "execution_count": 12,
   "id": "42daab56",
   "metadata": {
    "execution": {
     "iopub.execute_input": "2023-05-20T05:48:46.155398Z",
     "iopub.status.busy": "2023-05-20T05:48:46.154761Z",
     "iopub.status.idle": "2023-05-20T05:48:55.459515Z",
     "shell.execute_reply": "2023-05-20T05:48:55.458700Z"
    },
    "papermill": {
     "duration": 9.331191,
     "end_time": "2023-05-20T05:48:55.463674",
     "exception": false,
     "start_time": "2023-05-20T05:48:46.132483",
     "status": "completed"
    },
    "tags": []
   },
   "outputs": [
    {
     "data": {
      "text/plain": [
       "array([[<AxesSubplot: title={'center': 'MSSubClass'}>,\n",
       "        <AxesSubplot: title={'center': 'LotFrontage'}>,\n",
       "        <AxesSubplot: title={'center': 'LotArea'}>,\n",
       "        <AxesSubplot: title={'center': 'OverallQual'}>,\n",
       "        <AxesSubplot: title={'center': 'OverallCond'}>,\n",
       "        <AxesSubplot: title={'center': 'YearBuilt'}>],\n",
       "       [<AxesSubplot: title={'center': 'YearRemodAdd'}>,\n",
       "        <AxesSubplot: title={'center': 'MasVnrArea'}>,\n",
       "        <AxesSubplot: title={'center': 'BsmtFinSF1'}>,\n",
       "        <AxesSubplot: title={'center': 'BsmtFinSF2'}>,\n",
       "        <AxesSubplot: title={'center': 'BsmtUnfSF'}>,\n",
       "        <AxesSubplot: title={'center': 'TotalBsmtSF'}>],\n",
       "       [<AxesSubplot: title={'center': '1stFlrSF'}>,\n",
       "        <AxesSubplot: title={'center': '2ndFlrSF'}>,\n",
       "        <AxesSubplot: title={'center': 'LowQualFinSF'}>,\n",
       "        <AxesSubplot: title={'center': 'GrLivArea'}>,\n",
       "        <AxesSubplot: title={'center': 'BsmtFullBath'}>,\n",
       "        <AxesSubplot: title={'center': 'BsmtHalfBath'}>],\n",
       "       [<AxesSubplot: title={'center': 'FullBath'}>,\n",
       "        <AxesSubplot: title={'center': 'HalfBath'}>,\n",
       "        <AxesSubplot: title={'center': 'BedroomAbvGr'}>,\n",
       "        <AxesSubplot: title={'center': 'KitchenAbvGr'}>,\n",
       "        <AxesSubplot: title={'center': 'TotRmsAbvGrd'}>,\n",
       "        <AxesSubplot: title={'center': 'Fireplaces'}>],\n",
       "       [<AxesSubplot: title={'center': 'GarageYrBlt'}>,\n",
       "        <AxesSubplot: title={'center': 'GarageCars'}>,\n",
       "        <AxesSubplot: title={'center': 'GarageArea'}>,\n",
       "        <AxesSubplot: title={'center': 'WoodDeckSF'}>,\n",
       "        <AxesSubplot: title={'center': 'OpenPorchSF'}>,\n",
       "        <AxesSubplot: title={'center': 'EnclosedPorch'}>],\n",
       "       [<AxesSubplot: title={'center': '3SsnPorch'}>,\n",
       "        <AxesSubplot: title={'center': 'ScreenPorch'}>,\n",
       "        <AxesSubplot: title={'center': 'PoolArea'}>,\n",
       "        <AxesSubplot: title={'center': 'MiscVal'}>,\n",
       "        <AxesSubplot: title={'center': 'MoSold'}>,\n",
       "        <AxesSubplot: title={'center': 'YrSold'}>],\n",
       "       [<AxesSubplot: title={'center': 'SalePrice'}>, <AxesSubplot: >,\n",
       "        <AxesSubplot: >, <AxesSubplot: >, <AxesSubplot: >,\n",
       "        <AxesSubplot: >]], dtype=object)"
      ]
     },
     "execution_count": 12,
     "metadata": {},
     "output_type": "execute_result"
    },
    {
     "data": {
      "image/png": "[encoded data removed]",
      "text/plain": [
       "<Figure size 1600x2000 with 42 Axes>"
      ]
     },
     "metadata": {},
     "output_type": "display_data"
    }
   ],
   "source": [
    "df_num.hist(\n",
    "    figsize=(16,20),\n",
    "    bins=50\n",
    ")"
   ]
  },
  {
   "cell_type": "markdown",
   "id": "fbfb99c5",
   "metadata": {
    "papermill": {
     "duration": 0.024813,
     "end_time": "2023-05-20T05:48:55.514018",
     "exception": false,
     "start_time": "2023-05-20T05:48:55.489205",
     "status": "completed"
    },
    "tags": []
   },
   "source": [
    "## Prepare the dataset\n",
    "This dataset contains a mix of numeric, categorical and missing features. \n",
    "TFDF (Tensor Flow Decision Forest) supports all these feature types natively, and no preprocessing is required. This is one advantage of tree-based models, making them a great entry point to Tensorflow and ML."
   ]
  },
  {
   "cell_type": "markdown",
   "id": "1f3f13c0",
   "metadata": {
    "papermill": {
     "duration": 0.024291,
     "end_time": "2023-05-20T05:48:55.562664",
     "exception": false,
     "start_time": "2023-05-20T05:48:55.538373",
     "status": "completed"
    },
    "tags": []
   },
   "source": [
    "Now let's **split the dataset into training and testing datasets**."
   ]
  },
  {
   "cell_type": "code",
   "execution_count": 13,
   "id": "5fe67133",
   "metadata": {
    "execution": {
     "iopub.execute_input": "2023-05-20T05:48:55.613504Z",
     "iopub.status.busy": "2023-05-20T05:48:55.612882Z",
     "iopub.status.idle": "2023-05-20T05:48:55.618284Z",
     "shell.execute_reply": "2023-05-20T05:48:55.617566Z"
    },
    "papermill": {
     "duration": 0.033614,
     "end_time": "2023-05-20T05:48:55.620448",
     "exception": false,
     "start_time": "2023-05-20T05:48:55.586834",
     "status": "completed"
    },
    "tags": []
   },
   "outputs": [],
   "source": [
    "def split_dataset(dataset, test_ratio=0.3):\n",
    "    \"\"\"\n",
    "    Splits a given dataset into 2 parts. The size of the parts is given by\n",
    "    the parameter \"test_ratio\"\n",
    "    \"\"\"\n",
    "    \n",
    "    # Select the indices of the data frame that will be for test\n",
    "    test_indices = np.random.rand(len(dataset)) < test_ratio\n",
    "    \n",
    "    # Return 2 parts of the given dataset\n",
    "    return dataset[~test_indices], dataset[test_indices]    "
   ]
  },
  {
   "cell_type": "code",
   "execution_count": 14,
   "id": "f0975233",
   "metadata": {
    "execution": {
     "iopub.execute_input": "2023-05-20T05:48:55.671570Z",
     "iopub.status.busy": "2023-05-20T05:48:55.670958Z",
     "iopub.status.idle": "2023-05-20T05:48:55.678381Z",
     "shell.execute_reply": "2023-05-20T05:48:55.677252Z"
    },
    "papermill": {
     "duration": 0.035868,
     "end_time": "2023-05-20T05:48:55.680602",
     "exception": false,
     "start_time": "2023-05-20T05:48:55.644734",
     "status": "completed"
    },
    "tags": []
   },
   "outputs": [
    {
     "name": "stdout",
     "output_type": "stream",
     "text": [
      "Examples in training: 1029\n",
      "Examples in testing: 431\n"
     ]
    }
   ],
   "source": [
    "train_ds_pd, valid_ds_pd = split_dataset(dataset_df)\n",
    "print(f\"Examples in training: {train_ds_pd.shape[0]}\")\n",
    "print(f\"Examples in testing: {valid_ds_pd.shape[0]}\")"
   ]
  },
  {
   "cell_type": "markdown",
   "id": "d21d8df8",
   "metadata": {
    "papermill": {
     "duration": 0.023837,
     "end_time": "2023-05-20T05:48:55.728799",
     "exception": false,
     "start_time": "2023-05-20T05:48:55.704962",
     "status": "completed"
    },
    "tags": []
   },
   "source": [
    "There is one more step required before we can train the model. We need to **convert the dataset from Pandas Dataframe (pd.DataFrame) to TensorFlow Dataset (tf.data.Dataset)**.\n",
    "\n",
    "TensorFlow Dataset is a high performance data loading library which is helpful when training neural networks with accelerators like GPUs and TPUs.\n",
    "\n",
    "By default the Random Forest Model is configured to train classification tasks. Since this is a regression problem, we will specify the type of the task (tfdf.keras.Task.REGRESSION) as parameter here"
   ]
  },
  {
   "cell_type": "code",
   "execution_count": 15,
   "id": "c7e6dc51",
   "metadata": {
    "execution": {
     "iopub.execute_input": "2023-05-20T05:48:55.779744Z",
     "iopub.status.busy": "2023-05-20T05:48:55.779295Z",
     "iopub.status.idle": "2023-05-20T05:48:56.146087Z",
     "shell.execute_reply": "2023-05-20T05:48:56.145116Z"
    },
    "papermill": {
     "duration": 0.396146,
     "end_time": "2023-05-20T05:48:56.149062",
     "exception": false,
     "start_time": "2023-05-20T05:48:55.752916",
     "status": "completed"
    },
    "tags": []
   },
   "outputs": [],
   "source": [
    "label = 'SalePrice'\n",
    "\n",
    "# Convert the training dataset from Pandas Dataframe to Tensorflow Dataset\n",
    "train_ds = tfdf.keras.pd_dataframe_to_tf_dataset(train_ds_pd, \n",
    "                                                 label=label, \n",
    "                                                 task = tfdf.keras.Task.REGRESSION)\n",
    "\n",
    "# Convert the training dataset from Pandas Dataframe to Tensorflow Dataset\n",
    "valid_ds = tfdf.keras.pd_dataframe_to_tf_dataset(valid_ds_pd, \n",
    "                                                 label=label, \n",
    "                                                 task = tfdf.keras.Task.REGRESSION)"
   ]
  },
  {
   "cell_type": "markdown",
   "id": "4b36da8f",
   "metadata": {
    "papermill": {
     "duration": 0.023865,
     "end_time": "2023-05-20T05:48:56.197363",
     "exception": false,
     "start_time": "2023-05-20T05:48:56.173498",
     "status": "completed"
    },
    "tags": []
   },
   "source": [
    "## Select a model "
   ]
  },
  {
   "cell_type": "markdown",
   "id": "1c73f178",
   "metadata": {
    "execution": {
     "iopub.execute_input": "2023-05-15T16:24:16.189130Z",
     "iopub.status.busy": "2023-05-15T16:24:16.188773Z",
     "iopub.status.idle": "2023-05-15T16:24:16.196209Z",
     "shell.execute_reply": "2023-05-15T16:24:16.194666Z",
     "shell.execute_reply.started": "2023-05-15T16:24:16.189104Z"
    },
    "papermill": {
     "duration": 0.02371,
     "end_time": "2023-05-20T05:48:56.245505",
     "exception": false,
     "start_time": "2023-05-20T05:48:56.221795",
     "status": "completed"
    },
    "tags": []
   },
   "source": [
    "There are **several tree-based models** for you to choose from:\n",
    "- RandomForestModel\n",
    "- GradientBoostedTreesModel\n",
    "- CartModel\n",
    "- DistributedGradientBoostedTressModel\n",
    "\n",
    "\n",
    "To start, we'll work with RandomForest. This is the most well-known of the Decision Forest training algorithms.\n",
    "\n",
    "A **Random Forest is a collection of decision trees, each trained independently on a random subset of the training dataset (sampled with replacement)**. The algorithm is unique in that is **robust to overfitting** and **easy to use**."
   ]
  },
  {
   "cell_type": "markdown",
   "id": "f8561a1b",
   "metadata": {
    "papermill": {
     "duration": 0.023889,
     "end_time": "2023-05-20T05:48:56.293556",
     "exception": false,
     "start_time": "2023-05-20T05:48:56.269667",
     "status": "completed"
    },
    "tags": []
   },
   "source": [
    "We can list all available models in TensorFlow Decision Forests:"
   ]
  },
  {
   "cell_type": "code",
   "execution_count": 16,
   "id": "fc9f8bdb",
   "metadata": {
    "execution": {
     "iopub.execute_input": "2023-05-20T05:48:56.344069Z",
     "iopub.status.busy": "2023-05-20T05:48:56.343373Z",
     "iopub.status.idle": "2023-05-20T05:48:56.350148Z",
     "shell.execute_reply": "2023-05-20T05:48:56.349145Z"
    },
    "papermill": {
     "duration": 0.034662,
     "end_time": "2023-05-20T05:48:56.352255",
     "exception": false,
     "start_time": "2023-05-20T05:48:56.317593",
     "status": "completed"
    },
    "tags": []
   },
   "outputs": [
    {
     "data": {
      "text/plain": [
       "[tensorflow_decision_forests.keras.RandomForestModel,\n",
       " tensorflow_decision_forests.keras.GradientBoostedTreesModel,\n",
       " tensorflow_decision_forests.keras.CartModel,\n",
       " tensorflow_decision_forests.keras.DistributedGradientBoostedTreesModel]"
      ]
     },
     "execution_count": 16,
     "metadata": {},
     "output_type": "execute_result"
    }
   ],
   "source": [
    "tfdf.keras.get_all_models()"
   ]
  },
  {
   "cell_type": "markdown",
   "id": "6bd3a880",
   "metadata": {
    "papermill": {
     "duration": 0.023975,
     "end_time": "2023-05-20T05:48:56.400445",
     "exception": false,
     "start_time": "2023-05-20T05:48:56.376470",
     "status": "completed"
    },
    "tags": []
   },
   "source": [
    "## Configure the models\n",
    "\n",
    "TensorFlow Decision Forests provide good defaults for you (for example, the top ranking hyperparameters on our benchmarks, slightly modified to run in reasonable time). \n",
    "If you would like to configure the learning algorithm, you will find many options you can explore to get the highest possible accuracy. \n",
    "You can select a template and/or set parameters as follows:"
   ]
  },
  {
   "cell_type": "code",
   "execution_count": 17,
   "id": "4c91a476",
   "metadata": {
    "execution": {
     "iopub.execute_input": "2023-05-20T05:48:56.451203Z",
     "iopub.status.busy": "2023-05-20T05:48:56.450522Z",
     "iopub.status.idle": "2023-05-20T05:48:56.486054Z",
     "shell.execute_reply": "2023-05-20T05:48:56.484908Z"
    },
    "papermill": {
     "duration": 0.063947,
     "end_time": "2023-05-20T05:48:56.488628",
     "exception": false,
     "start_time": "2023-05-20T05:48:56.424681",
     "status": "completed"
    },
    "tags": []
   },
   "outputs": [
    {
     "name": "stdout",
     "output_type": "stream",
     "text": [
      "Resolve hyper-parameter template \"benchmark_rank1\" to \"benchmark_rank1@v1\" -> {'winner_take_all': True, 'categorical_algorithm': 'RANDOM', 'split_axis': 'SPARSE_OBLIQUE', 'sparse_oblique_normalization': 'MIN_MAX', 'sparse_oblique_num_projections_exponent': 1.0}.\n",
      "Use /tmp/tmp03wyhra0 as temporary training directory\n"
     ]
    }
   ],
   "source": [
    "rf = tfdf.keras.RandomForestModel(hyperparameter_template=\"benchmark_rank1\")\n",
    "task = tfdf.keras.Task.REGRESSION"
   ]
  },
  {
   "cell_type": "markdown",
   "id": "1afa3810",
   "metadata": {
    "papermill": {
     "duration": 0.024382,
     "end_time": "2023-05-20T05:48:56.537621",
     "exception": false,
     "start_time": "2023-05-20T05:48:56.513239",
     "status": "completed"
    },
    "tags": []
   },
   "source": [
    "## Create a Random Forest\n",
    "For this time, we will use the defaults to create the Random Forest Model while __specifying the task type as tfdf.Task.REGRESSION__"
   ]
  },
  {
   "cell_type": "code",
   "execution_count": 18,
   "id": "500397c9",
   "metadata": {
    "execution": {
     "iopub.execute_input": "2023-05-20T05:48:56.588810Z",
     "iopub.status.busy": "2023-05-20T05:48:56.588402Z",
     "iopub.status.idle": "2023-05-20T05:48:56.631137Z",
     "shell.execute_reply": "2023-05-20T05:48:56.630117Z"
    },
    "papermill": {
     "duration": 0.071508,
     "end_time": "2023-05-20T05:48:56.633880",
     "exception": false,
     "start_time": "2023-05-20T05:48:56.562372",
     "status": "completed"
    },
    "tags": []
   },
   "outputs": [
    {
     "name": "stdout",
     "output_type": "stream",
     "text": [
      "Use /tmp/tmpp7bbaydd as temporary training directory\n"
     ]
    }
   ],
   "source": [
    "rf = tfdf.keras.RandomForestModel(task = tfdf.keras.Task.REGRESSION)\n",
    "\n",
    "# This is optional. It is used to include a list of eval metrics\n",
    "rf.compile(metrics=[\"mse\"]) "
   ]
  },
  {
   "cell_type": "markdown",
   "id": "e649a079",
   "metadata": {
    "papermill": {
     "duration": 0.024232,
     "end_time": "2023-05-20T05:48:56.682872",
     "exception": false,
     "start_time": "2023-05-20T05:48:56.658640",
     "status": "completed"
    },
    "tags": []
   },
   "source": [
    "## Train the model\n",
    "\n",
    "We'll train the model using a one-liner."
   ]
  },
  {
   "cell_type": "code",
   "execution_count": 19,
   "id": "be075e55",
   "metadata": {
    "execution": {
     "iopub.execute_input": "2023-05-20T05:48:56.734976Z",
     "iopub.status.busy": "2023-05-20T05:48:56.734282Z",
     "iopub.status.idle": "2023-05-20T05:49:10.898108Z",
     "shell.execute_reply": "2023-05-20T05:49:10.896747Z"
    },
    "papermill": {
     "duration": 14.193288,
     "end_time": "2023-05-20T05:49:10.900972",
     "exception": false,
     "start_time": "2023-05-20T05:48:56.707684",
     "status": "completed"
    },
    "tags": []
   },
   "outputs": [
    {
     "name": "stdout",
     "output_type": "stream",
     "text": [
      "Reading training dataset...\n",
      "Training dataset read in 0:00:08.297318. Found 1029 examples.\n",
      "Training model...\n"
     ]
    },
    {
     "name": "stderr",
     "output_type": "stream",
     "text": [
      "[INFO 2023-05-20T05:49:06.874997332+00:00 kernel.cc:1214] Loading model from path /tmp/tmpp7bbaydd/model/ with prefix 77e22cee0cbd47c2\n"
     ]
    },
    {
     "name": "stdout",
     "output_type": "stream",
     "text": [
      "Model trained in 0:00:02.277170\n",
      "Compiling model...\n"
     ]
    },
    {
     "name": "stderr",
     "output_type": "stream",
     "text": [
      "[INFO 2023-05-20T05:49:07.281163284+00:00 decision_forest.cc:661] Model loaded with 300 root(s), 97896 node(s), and 73 input feature(s).\n",
      "[INFO 2023-05-20T05:49:07.281250632+00:00 abstract_model.cc:1311] Engine \"RandomForestOptPred\" built\n",
      "[INFO 2023-05-20T05:49:07.281330437+00:00 kernel.cc:1046] Use fast generic engine\n"
     ]
    },
    {
     "name": "stdout",
     "output_type": "stream",
     "text": [
      "WARNING: AutoGraph could not transform <function simple_ml_inference_op_with_handle at 0x7f3df1cec1f0> and will run it as-is.\n",
      "Please report this to the TensorFlow team. When filing the bug, set the verbosity to 10 (on Linux, `export AUTOGRAPH_VERBOSITY=10`) and attach the full output.\n",
      "Cause: could not get source code\n",
      "To silence this warning, decorate the function with @tf.autograph.experimental.do_not_convert\n",
      "Model compiled.\n"
     ]
    },
    {
     "data": {
      "text/plain": [
       "<keras.callbacks.History at 0x7f3de71a51e0>"
      ]
     },
     "execution_count": 19,
     "metadata": {},
     "output_type": "execute_result"
    }
   ],
   "source": [
    "rf.fit(x=train_ds)"
   ]
  },
  {
   "cell_type": "markdown",
   "id": "282c4f32",
   "metadata": {
    "papermill": {
     "duration": 0.025427,
     "end_time": "2023-05-20T05:49:10.954982",
     "exception": false,
     "start_time": "2023-05-20T05:49:10.929555",
     "status": "completed"
    },
    "tags": []
   },
   "source": [
    "## Visualize the model\n",
    "One **benefit of tree-based models is that you can easily visualize them**. The default number of trees used in the Random Forests is 300. We can select a tree to display below."
   ]
  },
  {
   "cell_type": "code",
   "execution_count": 20,
   "id": "c5db4b10",
   "metadata": {
    "execution": {
     "iopub.execute_input": "2023-05-20T05:49:11.008271Z",
     "iopub.status.busy": "2023-05-20T05:49:11.007865Z",
     "iopub.status.idle": "2023-05-20T05:49:11.035588Z",
     "shell.execute_reply": "2023-05-20T05:49:11.034507Z"
    },
    "papermill": {
     "duration": 0.057522,
     "end_time": "2023-05-20T05:49:11.038188",
     "exception": false,
     "start_time": "2023-05-20T05:49:10.980666",
     "status": "completed"
    },
    "tags": []
   },
   "outputs": [
    {
     "data": {
      "text/html": [
       "\n",
       "<script src=\"https://d3js.org/d3.v6.min.js\"></script>\n",
       "<div id=\"tree_plot_074ed014015b4b3e9b0c52938a24eadb\"></div>\n",
       "<script>\n",
       "/*\n",
       " * Copyright 2021 Google LLC.\n",
       " * Licensed under the Apache License, Version 2.0 (the \"License\");\n",
       " * you may not use this file except in compliance with the License.\n",
       " * You may obtain a copy of the License at\n",
       " *\n",
       " *     https://www.apache.org/licenses/LICENSE-2.0\n",
       " *\n",
       " * Unless required by applicable law or agreed to in writing, software\n",
       " * distributed under the License is distributed on an \"AS IS\" BASIS,\n",
       " * WITHOUT WARRANTIES OR CONDITIONS OF ANY KIND, either express or implied.\n",
       " * See the License for the specific language governing permissions and\n",
       " * limitations under the License.\n",
       " */\n",
       "\n",
       "/**\n",
       " *  Plotting of decision trees generated by TF-DF.\n",
       " *\n",
       " *  A tree is a recursive structure of node objects.\n",
       " *  A node contains one or more of the following components:\n",
       " *\n",
       " *    - A value: Representing the output of the node. If the node is not a leaf,\n",
       " *      the value is only present for analysis i.e. it is not used for\n",
       " *      predictions.\n",
       " *\n",
       " *    - A condition : For non-leaf nodes, the condition (also known as split)\n",
       " *      defines a binary test to branch to the positive or negative child.\n",
       " *\n",
       " *    - An explanation: Generally a plot showing the relation between the label\n",
       " *      and the condition to give insights about the effect of the condition.\n",
       " *\n",
       " *    - Two children : For non-leaf nodes, the children nodes. The first\n",
       " *      children (i.e. \"node.children[0]\") is the negative children (drawn in\n",
       " *      red). The second children is the positive one (drawn in green).\n",
       " *\n",
       " */\n",
       "\n",
       "/**\n",
       " * Plots a single decision tree into a DOM element.\n",
       " * @param {!options} options Dictionary of configurations.\n",
       " * @param {!tree} raw_tree Recursive tree structure.\n",
       " * @param {string} canvas_id Id of the output dom element.\n",
       " */\n",
       "function display_tree(options, raw_tree, canvas_id) {\n",
       "  console.log(options);\n",
       "\n",
       "  // Determine the node placement.\n",
       "  const tree_struct = d3.tree().nodeSize(\n",
       "      [options.node_y_offset, options.node_x_offset])(d3.hierarchy(raw_tree));\n",
       "\n",
       "  // Boundaries of the node placement.\n",
       "  let x_min = Infinity;\n",
       "  let x_max = -x_min;\n",
       "  let y_min = Infinity;\n",
       "  let y_max = -x_min;\n",
       "\n",
       "  tree_struct.each(d => {\n",
       "    if (d.x > x_max) x_max = d.x;\n",
       "    if (d.x < x_min) x_min = d.x;\n",
       "    if (d.y > y_max) y_max = d.y;\n",
       "    if (d.y < y_min) y_min = d.y;\n",
       "  });\n",
       "\n",
       "  // Size of the plot.\n",
       "  const width = y_max - y_min + options.node_x_size + options.margin * 2;\n",
       "  const height = x_max - x_min + options.node_y_size + options.margin * 2 +\n",
       "      options.node_y_offset - options.node_y_size;\n",
       "\n",
       "  const plot = d3.select(canvas_id);\n",
       "\n",
       "  // Tool tip\n",
       "  options.tooltip = plot.append('div')\n",
       "                        .attr('width', 100)\n",
       "                        .attr('height', 100)\n",
       "                        .style('padding', '4px')\n",
       "                        .style('background', '#fff')\n",
       "                        .style('box-shadow', '4px 4px 0px rgba(0,0,0,0.1)')\n",
       "                        .style('border', '1px solid black')\n",
       "                        .style('font-family', 'sans-serif')\n",
       "                        .style('font-size', options.font_size)\n",
       "                        .style('position', 'absolute')\n",
       "                        .style('z-index', '10')\n",
       "                        .attr('pointer-events', 'none')\n",
       "                        .style('display', 'none');\n",
       "\n",
       "  // Create canvas\n",
       "  const svg = plot.append('svg').attr('width', width).attr('height', height);\n",
       "  const graph =\n",
       "      svg.style('overflow', 'visible')\n",
       "          .append('g')\n",
       "          .attr('font-family', 'sans-serif')\n",
       "          .attr('font-size', options.font_size)\n",
       "          .attr(\n",
       "              'transform',\n",
       "              () => `translate(${options.margin},${\n",
       "                  - x_min + options.node_y_offset / 2 + options.margin})`);\n",
       "\n",
       "  // Plot bounding box.\n",
       "  if (options.show_plot_bounding_box) {\n",
       "    svg.append('rect')\n",
       "        .attr('width', width)\n",
       "        .attr('height', height)\n",
       "        .attr('fill', 'none')\n",
       "        .attr('stroke-width', 1.0)\n",
       "        .attr('stroke', 'black');\n",
       "  }\n",
       "\n",
       "  // Draw the edges.\n",
       "  display_edges(options, graph, tree_struct);\n",
       "\n",
       "  // Draw the nodes.\n",
       "  display_nodes(options, graph, tree_struct);\n",
       "}\n",
       "\n",
       "/**\n",
       " * Draw the nodes of the tree.\n",
       " * @param {!options} options Dictionary of configurations.\n",
       " * @param {!graph} graph D3 search handle containing the graph.\n",
       " * @param {!tree_struct} tree_struct Structure of the tree (node placement,\n",
       " *     data, etc.).\n",
       " */\n",
       "function display_nodes(options, graph, tree_struct) {\n",
       "  const nodes = graph.append('g')\n",
       "                    .selectAll('g')\n",
       "                    .data(tree_struct.descendants())\n",
       "                    .join('g')\n",
       "                    .attr('transform', d => `translate(${d.y},${d.x})`);\n",
       "\n",
       "  nodes.append('rect')\n",
       "      .attr('x', 0.5)\n",
       "      .attr('y', 0.5)\n",
       "      .attr('width', options.node_x_size)\n",
       "      .attr('height', options.node_y_size)\n",
       "      .attr('stroke', 'lightgrey')\n",
       "      .attr('stroke-width', 1)\n",
       "      .attr('fill', 'white')\n",
       "      .attr('y', -options.node_y_size / 2);\n",
       "\n",
       "  // Brackets on the right of condition nodes without children.\n",
       "  non_leaf_node_without_children =\n",
       "      nodes.filter(node => node.data.condition != null && node.children == null)\n",
       "          .append('g')\n",
       "          .attr('transform', `translate(${options.node_x_size},0)`);\n",
       "\n",
       "  non_leaf_node_without_children.append('path')\n",
       "      .attr('d', 'M0,0 C 10,0 0,10 10,10')\n",
       "      .attr('fill', 'none')\n",
       "      .attr('stroke-width', 1.0)\n",
       "      .attr('stroke', '#F00');\n",
       "\n",
       "  non_leaf_node_without_children.append('path')\n",
       "      .attr('d', 'M0,0 C 10,0 0,-10 10,-10')\n",
       "      .attr('fill', 'none')\n",
       "      .attr('stroke-width', 1.0)\n",
       "      .attr('stroke', '#0F0');\n",
       "\n",
       "  const node_content = nodes.append('g').attr(\n",
       "      'transform',\n",
       "      `translate(0,${options.node_padding - options.node_y_size / 2})`);\n",
       "\n",
       "  node_content.append(node => create_node_element(options, node));\n",
       "}\n",
       "\n",
       "/**\n",
       " * Creates the D3 content for a single node.\n",
       " * @param {!options} options Dictionary of configurations.\n",
       " * @param {!node} node Node to draw.\n",
       " * @return {!d3} D3 content.\n",
       " */\n",
       "function create_node_element(options, node) {\n",
       "  // Output accumulator.\n",
       "  let output = {\n",
       "    // Content to draw.\n",
       "    content: d3.create('svg:g'),\n",
       "    // Vertical offset to the next element to draw.\n",
       "    vertical_offset: 0\n",
       "  };\n",
       "\n",
       "  // Conditions.\n",
       "  if (node.data.condition != null) {\n",
       "    display_condition(options, node.data.condition, output);\n",
       "  }\n",
       "\n",
       "  // Values.\n",
       "  if (node.data.value != null) {\n",
       "    display_value(options, node.data.value, output);\n",
       "  }\n",
       "\n",
       "  // Explanations.\n",
       "  if (node.data.explanation != null) {\n",
       "    display_explanation(options, node.data.explanation, output);\n",
       "  }\n",
       "\n",
       "  return output.content.node();\n",
       "}\n",
       "\n",
       "\n",
       "/**\n",
       " * Adds a single line of text inside of a node.\n",
       " * @param {!options} options Dictionary of configurations.\n",
       " * @param {string} text Text to display.\n",
       " * @param {!output} output Output display accumulator.\n",
       " */\n",
       "function display_node_text(options, text, output) {\n",
       "  output.content.append('text')\n",
       "      .attr('x', options.node_padding)\n",
       "      .attr('y', output.vertical_offset)\n",
       "      .attr('alignment-baseline', 'hanging')\n",
       "      .text(text);\n",
       "  output.vertical_offset += 10;\n",
       "}\n",
       "\n",
       "/**\n",
       " * Adds a single line of text inside of a node with a tooltip.\n",
       " * @param {!options} options Dictionary of configurations.\n",
       " * @param {string} text Text to display.\n",
       " * @param {string} tooltip Text in the Tooltip.\n",
       " * @param {!output} output Output display accumulator.\n",
       " */\n",
       "function display_node_text_with_tooltip(options, text, tooltip, output) {\n",
       "  const item = output.content.append('text')\n",
       "                   .attr('x', options.node_padding)\n",
       "                   .attr('alignment-baseline', 'hanging')\n",
       "                   .text(text);\n",
       "\n",
       "  add_tooltip(options, item, () => tooltip);\n",
       "  output.vertical_offset += 10;\n",
       "}\n",
       "\n",
       "/**\n",
       " * Adds a tooltip to a dom element.\n",
       " * @param {!options} options Dictionary of configurations.\n",
       " * @param {!dom} target Dom element to equip with a tooltip.\n",
       " * @param {!func} get_content Generates the html content of the tooltip.\n",
       " */\n",
       "function add_tooltip(options, target, get_content) {\n",
       "  function show(d) {\n",
       "    options.tooltip.style('display', 'block');\n",
       "    options.tooltip.html(get_content());\n",
       "  }\n",
       "\n",
       "  function hide(d) {\n",
       "    options.tooltip.style('display', 'none');\n",
       "  }\n",
       "\n",
       "  function move(d) {\n",
       "    options.tooltip.style('display', 'block');\n",
       "    options.tooltip.style('left', (d.pageX + 5) + 'px');\n",
       "    options.tooltip.style('top', d.pageY + 'px');\n",
       "  }\n",
       "\n",
       "  target.on('mouseover', show);\n",
       "  target.on('mouseout', hide);\n",
       "  target.on('mousemove', move);\n",
       "}\n",
       "\n",
       "/**\n",
       " * Adds a condition inside of a node.\n",
       " * @param {!options} options Dictionary of configurations.\n",
       " * @param {!condition} condition Condition to display.\n",
       " * @param {!output} output Output display accumulator.\n",
       " */\n",
       "function display_condition(options, condition, output) {\n",
       "  threshold_format = d3.format('r');\n",
       "\n",
       "  if (condition.type === 'IS_MISSING') {\n",
       "    display_node_text(options, `${condition.attribute} is missing`, output);\n",
       "    return;\n",
       "  }\n",
       "\n",
       "  if (condition.type === 'IS_TRUE') {\n",
       "    display_node_text(options, `${condition.attribute} is true`, output);\n",
       "    return;\n",
       "  }\n",
       "\n",
       "  if (condition.type === 'NUMERICAL_IS_HIGHER_THAN') {\n",
       "    format = d3.format('r');\n",
       "    display_node_text(\n",
       "        options,\n",
       "        `${condition.attribute} >= ${threshold_format(condition.threshold)}`,\n",
       "        output);\n",
       "    return;\n",
       "  }\n",
       "\n",
       "  if (condition.type === 'CATEGORICAL_IS_IN') {\n",
       "    display_node_text_with_tooltip(\n",
       "        options, `${condition.attribute} in [...]`,\n",
       "        `${condition.attribute} in [${condition.mask}]`, output);\n",
       "    return;\n",
       "  }\n",
       "\n",
       "  if (condition.type === 'CATEGORICAL_SET_CONTAINS') {\n",
       "    display_node_text_with_tooltip(\n",
       "        options, `${condition.attribute} intersect [...]`,\n",
       "        `${condition.attribute} intersect [${condition.mask}]`, output);\n",
       "    return;\n",
       "  }\n",
       "\n",
       "  if (condition.type === 'NUMERICAL_SPARSE_OBLIQUE') {\n",
       "    display_node_text_with_tooltip(\n",
       "        options, `Sparse oblique split...`,\n",
       "        `[${condition.attributes}]*[${condition.weights}]>=${\n",
       "            threshold_format(condition.threshold)}`,\n",
       "        output);\n",
       "    return;\n",
       "  }\n",
       "\n",
       "  display_node_text(\n",
       "      options, `Non supported condition ${condition.type}`, output);\n",
       "}\n",
       "\n",
       "/**\n",
       " * Adds a value inside of a node.\n",
       " * @param {!options} options Dictionary of configurations.\n",
       " * @param {!value} value Value to display.\n",
       " * @param {!output} output Output display accumulator.\n",
       " */\n",
       "function display_value(options, value, output) {\n",
       "  if (value.type === 'PROBABILITY') {\n",
       "    const left_margin = 0;\n",
       "    const right_margin = 50;\n",
       "    const plot_width = options.node_x_size - options.node_padding * 2 -\n",
       "        left_margin - right_margin;\n",
       "\n",
       "    let cusum = Array.from(d3.cumsum(value.distribution));\n",
       "    cusum.unshift(0);\n",
       "    const distribution_plot = output.content.append('g').attr(\n",
       "        'transform', `translate(0,${output.vertical_offset + 0.5})`);\n",
       "\n",
       "    distribution_plot.selectAll('rect')\n",
       "        .data(value.distribution)\n",
       "        .join('rect')\n",
       "        .attr('height', 10)\n",
       "        .attr(\n",
       "            'x',\n",
       "            (d, i) =>\n",
       "                (cusum[i] * plot_width + left_margin + options.node_padding))\n",
       "        .attr('width', (d, i) => d * plot_width)\n",
       "        .style('fill', (d, i) => d3.schemeSet1[i]);\n",
       "\n",
       "    const num_examples =\n",
       "        output.content.append('g')\n",
       "            .attr('transform', `translate(0,${output.vertical_offset})`)\n",
       "            .append('text')\n",
       "            .attr('x', options.node_x_size - options.node_padding)\n",
       "            .attr('alignment-baseline', 'hanging')\n",
       "            .attr('text-anchor', 'end')\n",
       "            .text(`(${value.num_examples})`);\n",
       "\n",
       "    const distribution_details = d3.create('ul');\n",
       "    distribution_details.selectAll('li')\n",
       "        .data(value.distribution)\n",
       "        .join('li')\n",
       "        .append('span')\n",
       "        .text(\n",
       "            (d, i) =>\n",
       "                'class ' + i + ': ' + d3.format('.3%')(value.distribution[i]));\n",
       "\n",
       "    add_tooltip(options, distribution_plot, () => distribution_details.html());\n",
       "    add_tooltip(options, num_examples, () => 'Number of examples');\n",
       "\n",
       "    output.vertical_offset += 10;\n",
       "    return;\n",
       "  }\n",
       "\n",
       "  if (value.type === 'REGRESSION') {\n",
       "    display_node_text(\n",
       "        options,\n",
       "        'value: ' + d3.format('r')(value.value) + ` (` +\n",
       "            d3.format('.6')(value.num_examples) + `)`,\n",
       "        output);\n",
       "    return;\n",
       "  }\n",
       "\n",
       "  display_node_text(options, `Non supported value ${value.type}`, output);\n",
       "}\n",
       "\n",
       "/**\n",
       " * Adds an explanation inside of a node.\n",
       " * @param {!options} options Dictionary of configurations.\n",
       " * @param {!explanation} explanation Explanation to display.\n",
       " * @param {!output} output Output display accumulator.\n",
       " */\n",
       "function display_explanation(options, explanation, output) {\n",
       "  // Margin before the explanation.\n",
       "  output.vertical_offset += 10;\n",
       "\n",
       "  display_node_text(\n",
       "      options, `Non supported explanation ${explanation.type}`, output);\n",
       "}\n",
       "\n",
       "\n",
       "/**\n",
       " * Draw the edges of the tree.\n",
       " * @param {!options} options Dictionary of configurations.\n",
       " * @param {!graph} graph D3 search handle containing the graph.\n",
       " * @param {!tree_struct} tree_struct Structure of the tree (node placement,\n",
       " *     data, etc.).\n",
       " */\n",
       "function display_edges(options, graph, tree_struct) {\n",
       "  // Draw an edge between a parent and a child node with a bezier.\n",
       "  function draw_single_edge(d) {\n",
       "    return 'M' + (d.source.y + options.node_x_size) + ',' + d.source.x + ' C' +\n",
       "        (d.source.y + options.node_x_size + options.edge_rounding) + ',' +\n",
       "        d.source.x + ' ' + (d.target.y - options.edge_rounding) + ',' +\n",
       "        d.target.x + ' ' + d.target.y + ',' + d.target.x;\n",
       "  }\n",
       "\n",
       "  graph.append('g')\n",
       "      .attr('fill', 'none')\n",
       "      .attr('stroke-width', 1.2)\n",
       "      .selectAll('path')\n",
       "      .data(tree_struct.links())\n",
       "      .join('path')\n",
       "      .attr('d', draw_single_edge)\n",
       "      .attr(\n",
       "          'stroke', d => (d.target === d.source.children[0]) ? '#0F0' : '#F00');\n",
       "}\n",
       "\n",
       "display_tree({\"margin\": 10, \"node_x_size\": 160, \"node_y_size\": 28, \"node_x_offset\": 180, \"node_y_offset\": 33, \"font_size\": 10, \"edge_rounding\": 20, \"node_padding\": 2, \"show_plot_bounding_box\": false}, {\"value\": {\"type\": \"REGRESSION\", \"value\": 177052.296875, \"num_examples\": 1029.0, \"standard_deviation\": 78842.38140587864}, \"condition\": {\"type\": \"CATEGORICAL_IS_IN\", \"attribute\": \"ExterQual\", \"mask\": [\"Gd\", \"Ex\"]}, \"children\": [{\"value\": {\"type\": \"REGRESSION\", \"value\": 245632.46875, \"num_examples\": 347.0, \"standard_deviation\": 88108.47736523801}, \"condition\": {\"type\": \"CATEGORICAL_IS_IN\", \"attribute\": \"KitchenQual\", \"mask\": [\"Ex\"]}, \"children\": [{\"value\": {\"type\": \"REGRESSION\", \"value\": 372666.8125, \"num_examples\": 50.0, \"standard_deviation\": 109744.9153183874}, \"condition\": {\"type\": \"NUMERICAL_IS_HIGHER_THAN\", \"attribute\": \"FullBath\", \"threshold\": 2.5}, \"children\": [{\"value\": {\"type\": \"REGRESSION\", \"value\": 610200.0, \"num_examples\": 5.0, \"standard_deviation\": 111752.1913950683}}, {\"value\": {\"type\": \"REGRESSION\", \"value\": 346274.21875, \"num_examples\": 45.0, \"standard_deviation\": 70914.484919636}, \"condition\": {\"type\": \"NUMERICAL_IS_HIGHER_THAN\", \"attribute\": \"GrLivArea\", \"threshold\": 1922.5}}]}, {\"value\": {\"type\": \"REGRESSION\", \"value\": 224246.21875, \"num_examples\": 297.0, \"standard_deviation\": 62195.36375887147}, \"condition\": {\"type\": \"NUMERICAL_IS_HIGHER_THAN\", \"attribute\": \"OverallQual\", \"threshold\": 7.5}, \"children\": [{\"value\": {\"type\": \"REGRESSION\", \"value\": 282858.15625, \"num_examples\": 90.0, \"standard_deviation\": 63494.88785244411}, \"condition\": {\"type\": \"NUMERICAL_IS_HIGHER_THAN\", \"attribute\": \"TotalBsmtSF\", \"threshold\": 1856.0}}, {\"value\": {\"type\": \"REGRESSION\", \"value\": 198762.765625, \"num_examples\": 207.0, \"standard_deviation\": 40671.92203871481}, \"condition\": {\"type\": \"NUMERICAL_IS_HIGHER_THAN\", \"attribute\": \"GarageArea\", \"threshold\": 422.5}}]}]}, {\"value\": {\"type\": \"REGRESSION\", \"value\": 142158.875, \"num_examples\": 682.0, \"standard_deviation\": 42643.545298457015}, \"condition\": {\"type\": \"CATEGORICAL_IS_IN\", \"attribute\": \"Neighborhood\", \"mask\": [\"CollgCr\", \"Somerst\", \"Gilbert\", \"NWAmes\", \"NridgHt\", \"SawyerW\", \"Crawfor\", \"Timber\", \"ClearCr\", \"Veenker\"]}, \"children\": [{\"value\": {\"type\": \"REGRESSION\", \"value\": 186692.46875, \"num_examples\": 168.0, \"standard_deviation\": 44425.30894946107}, \"condition\": {\"type\": \"NUMERICAL_IS_HIGHER_THAN\", \"attribute\": \"GrLivArea\", \"threshold\": 1800.5}, \"children\": [{\"value\": {\"type\": \"REGRESSION\", \"value\": 236313.25, \"num_examples\": 41.0, \"standard_deviation\": 50781.1413239209}, \"condition\": {\"type\": \"NUMERICAL_IS_HIGHER_THAN\", \"attribute\": \"BsmtFinSF1\", \"threshold\": 415.5}}, {\"value\": {\"type\": \"REGRESSION\", \"value\": 170673.171875, \"num_examples\": 127.0, \"standard_deviation\": 26958.248419047024}, \"condition\": {\"type\": \"NUMERICAL_IS_HIGHER_THAN\", \"attribute\": \"GrLivArea\", \"threshold\": 1221.5}}]}, {\"value\": {\"type\": \"REGRESSION\", \"value\": 127603.1484375, \"num_examples\": 514.0, \"standard_deviation\": 30127.695310851566}, \"condition\": {\"type\": \"NUMERICAL_IS_HIGHER_THAN\", \"attribute\": \"TotalBsmtSF\", \"threshold\": 1015.5}, \"children\": [{\"value\": {\"type\": \"REGRESSION\", \"value\": 148487.890625, \"num_examples\": 154.0, \"standard_deviation\": 25009.524980027047}, \"condition\": {\"type\": \"NUMERICAL_IS_HIGHER_THAN\", \"attribute\": \"LotArea\", \"threshold\": 13388.0}}, {\"value\": {\"type\": \"REGRESSION\", \"value\": 118669.125, \"num_examples\": 360.0, \"standard_deviation\": 27604.27791837314}, \"condition\": {\"type\": \"NUMERICAL_IS_HIGHER_THAN\", \"attribute\": \"BedroomAbvGr\", \"threshold\": 2.5}}]}]}]}, \"#tree_plot_074ed014015b4b3e9b0c52938a24eadb\")\n",
       "</script>\n"
      ],
      "text/plain": [
       "<IPython.core.display.HTML object>"
      ]
     },
     "execution_count": 20,
     "metadata": {},
     "output_type": "execute_result"
    }
   ],
   "source": [
    "tfdf.model_plotter.plot_model_in_colab(rf,\n",
    "                                      tree_idx=0, max_depth=3)"
   ]
  },
  {
   "cell_type": "markdown",
   "id": "35dec1ec",
   "metadata": {
    "papermill": {
     "duration": 0.025781,
     "end_time": "2023-05-20T05:49:11.090300",
     "exception": false,
     "start_time": "2023-05-20T05:49:11.064519",
     "status": "completed"
    },
    "tags": []
   },
   "source": [
    "## Evaluate the model on the Out of bag (OOB) data and the validation dataset\n",
    "\n",
    "Before training the dataset we have manually separated 30% of the dataset for validation named as \"valid_ds\".\n",
    "\n",
    "We can also __use Out of bag (OOB) score to validate our RandomForestModel__. To train a Random Forest Model, __a set of random samples from training set are chosen by the algorithm and the rest of the samples are used to finetune the model__. The __subset of data that is not chosen is known as Out of the bag data (OOB)__. OOB score is computed on the OOB data. <br>\n",
    "The __training logs show the Root Mean Squared Error (RMSE)__ evaluated on the out-of-bag dataset according to the number of trees in the model.\n",
    "Let us plot this. <br>\n",
    "__Note: smaller values are better for this hyperparameter__."
   ]
  },
  {
   "cell_type": "markdown",
   "id": "4427f64d",
   "metadata": {
    "papermill": {
     "duration": 0.026102,
     "end_time": "2023-05-20T05:49:11.142667",
     "exception": false,
     "start_time": "2023-05-20T05:49:11.116565",
     "status": "completed"
    },
    "tags": []
   },
   "source": [
    "## Calculate the metrics of the model"
   ]
  },
  {
   "cell_type": "code",
   "execution_count": 21,
   "id": "c21674f0",
   "metadata": {
    "execution": {
     "iopub.execute_input": "2023-05-20T05:49:11.197693Z",
     "iopub.status.busy": "2023-05-20T05:49:11.197259Z",
     "iopub.status.idle": "2023-05-20T05:49:11.205072Z",
     "shell.execute_reply": "2023-05-20T05:49:11.204132Z"
    },
    "papermill": {
     "duration": 0.037889,
     "end_time": "2023-05-20T05:49:11.207180",
     "exception": false,
     "start_time": "2023-05-20T05:49:11.169291",
     "status": "completed"
    },
    "tags": []
   },
   "outputs": [],
   "source": [
    "logs = rf.make_inspector().training_logs()"
   ]
  },
  {
   "cell_type": "code",
   "execution_count": 22,
   "id": "a8c62adf",
   "metadata": {
    "execution": {
     "iopub.execute_input": "2023-05-20T05:49:11.262210Z",
     "iopub.status.busy": "2023-05-20T05:49:11.261367Z",
     "iopub.status.idle": "2023-05-20T05:49:11.499122Z",
     "shell.execute_reply": "2023-05-20T05:49:11.497982Z"
    },
    "papermill": {
     "duration": 0.267919,
     "end_time": "2023-05-20T05:49:11.501594",
     "exception": false,
     "start_time": "2023-05-20T05:49:11.233675",
     "status": "completed"
    },
    "tags": []
   },
   "outputs": [
    {
     "name": "stdout",
     "output_type": "stream",
     "text": [
      "Number of tress and RMSE\n",
      "1, 41790.64900032018\n",
      "11, 31684.84992331281\n",
      "21, 29563.565656172592\n",
      "31, 28626.754632803655\n",
      "41, 27859.97642308007\n",
      "51, 27724.190497271837\n",
      "61, 28041.060614670743\n",
      "71, 27802.665927976235\n",
      "81, 27656.47795231641\n",
      "91, 27602.03902196674\n",
      "101, 27569.33432411963\n",
      "111, 27408.946134243302\n",
      "121, 27356.18004068334\n",
      "131, 27209.511965899248\n",
      "141, 27167.4665811555\n",
      "151, 27213.159849142823\n",
      "161, 27276.824328003666\n",
      "171, 27202.725712021653\n",
      "181, 27189.731558003918\n",
      "191, 27218.18410831201\n",
      "201, 27118.625904386\n",
      "211, 27067.273411586048\n",
      "221, 27072.461589501876\n",
      "231, 26995.657164745022\n",
      "241, 26908.77922200242\n",
      "251, 26941.134250549916\n",
      "261, 26951.008778753083\n",
      "271, 27020.552266786086\n",
      "281, 27023.968218656795\n",
      "291, 27006.44992902952\n",
      "300, 26956.5735099085\n"
     ]
    },
    {
     "data": {
      "image/png": "[encoded data removed]",
      "text/plain": [
       "<Figure size 640x480 with 1 Axes>"
      ]
     },
     "metadata": {},
     "output_type": "display_data"
    }
   ],
   "source": [
    "print(\"Number of tress and RMSE\")\n",
    "for log in logs:\n",
    "    print(f\"{log.num_trees}, {log.evaluation.rmse}\")\n",
    "    \n",
    "# We can plot this numbers to see how vary the\n",
    "# RMSE depending on the number of trees used\n",
    "plt.plot([log.num_trees for log in logs], [log.evaluation.rmse for log in logs])\n",
    "plt.xlabel(\"Number of trees\")\n",
    "plt.ylabel(\"RMSE (out-of-bag)\")\n",
    "plt.show()"
   ]
  },
  {
   "cell_type": "markdown",
   "id": "c7fbadda",
   "metadata": {
    "papermill": {
     "duration": 0.02753,
     "end_time": "2023-05-20T05:49:11.556300",
     "exception": false,
     "start_time": "2023-05-20T05:49:11.528770",
     "status": "completed"
    },
    "tags": []
   },
   "source": [
    "We can also see some general stats on the OOB dataset:"
   ]
  },
  {
   "cell_type": "code",
   "execution_count": 23,
   "id": "e2b611f4",
   "metadata": {
    "execution": {
     "iopub.execute_input": "2023-05-20T05:49:11.613519Z",
     "iopub.status.busy": "2023-05-20T05:49:11.613107Z",
     "iopub.status.idle": "2023-05-20T05:49:11.621936Z",
     "shell.execute_reply": "2023-05-20T05:49:11.620797Z"
    },
    "papermill": {
     "duration": 0.040513,
     "end_time": "2023-05-20T05:49:11.624344",
     "exception": false,
     "start_time": "2023-05-20T05:49:11.583831",
     "status": "completed"
    },
    "tags": []
   },
   "outputs": [
    {
     "name": "stdout",
     "output_type": "stream",
     "text": [
      "RMSE: 26956.5735099085\n"
     ]
    }
   ],
   "source": [
    "inspector = rf.make_inspector()\n",
    "print(f\"RMSE: {inspector.evaluation().rmse}\")"
   ]
  },
  {
   "cell_type": "markdown",
   "id": "8278724b",
   "metadata": {
    "papermill": {
     "duration": 0.027924,
     "end_time": "2023-05-20T05:49:11.679949",
     "exception": false,
     "start_time": "2023-05-20T05:49:11.652025",
     "status": "completed"
    },
    "tags": []
   },
   "source": [
    "Now let us run an __evaluation using the validation dataset.__"
   ]
  },
  {
   "cell_type": "code",
   "execution_count": 24,
   "id": "b4300a62",
   "metadata": {
    "execution": {
     "iopub.execute_input": "2023-05-20T05:49:11.735947Z",
     "iopub.status.busy": "2023-05-20T05:49:11.735522Z",
     "iopub.status.idle": "2023-05-20T05:49:12.571323Z",
     "shell.execute_reply": "2023-05-20T05:49:12.570130Z"
    },
    "papermill": {
     "duration": 0.866669,
     "end_time": "2023-05-20T05:49:12.573742",
     "exception": false,
     "start_time": "2023-05-20T05:49:11.707073",
     "status": "completed"
    },
    "tags": []
   },
   "outputs": [
    {
     "name": "stdout",
     "output_type": "stream",
     "text": [
      "1/1 [==============================] - 1s 822ms/step - loss: 0.0000e+00 - mse: 1280943232.0000\n",
      "{'loss': 0.0, 'mse': 1280943232.0}\n"
     ]
    }
   ],
   "source": [
    "evaluation = rf.evaluate(x=valid_ds, return_dict=True)\n",
    "print(evaluation)"
   ]
  },
  {
   "cell_type": "markdown",
   "id": "e1ab80f8",
   "metadata": {
    "papermill": {
     "duration": 0.028048,
     "end_time": "2023-05-20T05:49:12.629949",
     "exception": false,
     "start_time": "2023-05-20T05:49:12.601901",
     "status": "completed"
    },
    "tags": []
   },
   "source": [
    "## Variable importances\n",
    "\n",
    "Variable importances indicates how much a feature contributes to the model predictions. There are several ways to indentify important features using TensorFlow Decision Forests. Let us list the available Variable Importances for Decision Trees"
   ]
  },
  {
   "cell_type": "code",
   "execution_count": 25,
   "id": "189f8d1d",
   "metadata": {
    "execution": {
     "iopub.execute_input": "2023-05-20T05:49:12.687512Z",
     "iopub.status.busy": "2023-05-20T05:49:12.687098Z",
     "iopub.status.idle": "2023-05-20T05:49:12.694706Z",
     "shell.execute_reply": "2023-05-20T05:49:12.693505Z"
    },
    "papermill": {
     "duration": 0.039424,
     "end_time": "2023-05-20T05:49:12.697417",
     "exception": false,
     "start_time": "2023-05-20T05:49:12.657993",
     "status": "completed"
    },
    "tags": []
   },
   "outputs": [
    {
     "name": "stdout",
     "output_type": "stream",
     "text": [
      "Available variable importances:\n",
      "\t- NUM_NODES\n",
      "\t- SUM_SCORE\n",
      "\t- INV_MEAN_MIN_DEPTH\n",
      "\t- NUM_AS_ROOT\n"
     ]
    }
   ],
   "source": [
    "print(\"Available variable importances:\")\n",
    "for importance in inspector.variable_importances().keys():\n",
    "    print(f\"\\t- {importance}\")"
   ]
  },
  {
   "cell_type": "markdown",
   "id": "e32ea39e",
   "metadata": {
    "papermill": {
     "duration": 0.027166,
     "end_time": "2023-05-20T05:49:12.752093",
     "exception": false,
     "start_time": "2023-05-20T05:49:12.724927",
     "status": "completed"
    },
    "tags": []
   },
   "source": [
    "As an example let us display the important features for the Variable Importance NUM_AS_ROOT. <br>\n",
    "The larget the importance score for NUM_AS_ROOT, the more impact it has on the outcome of the model. <br>\n",
    "By default, the list is sorted from the most important to the least. From the output you can infer that the feature at the top of the list is used as the root node in most number of trees in the random forest than any other feature."
   ]
  },
  {
   "cell_type": "code",
   "execution_count": 26,
   "id": "3f742fe3",
   "metadata": {
    "execution": {
     "iopub.execute_input": "2023-05-20T05:49:12.809967Z",
     "iopub.status.busy": "2023-05-20T05:49:12.809285Z",
     "iopub.status.idle": "2023-05-20T05:49:12.817978Z",
     "shell.execute_reply": "2023-05-20T05:49:12.816865Z"
    },
    "papermill": {
     "duration": 0.039896,
     "end_time": "2023-05-20T05:49:12.820438",
     "exception": false,
     "start_time": "2023-05-20T05:49:12.780542",
     "status": "completed"
    },
    "tags": []
   },
   "outputs": [
    {
     "data": {
      "text/plain": [
       "[(\"OverallQual\" (1; #62), 129.0),\n",
       " (\"ExterQual\" (4; #22), 52.0),\n",
       " (\"GarageCars\" (1; #32), 43.0),\n",
       " (\"Neighborhood\" (4; #59), 37.0),\n",
       " (\"YearBuilt\" (1; #76), 16.0),\n",
       " (\"BsmtQual\" (4; #14), 6.0),\n",
       " (\"GrLivArea\" (1; #38), 6.0),\n",
       " (\"GarageYrBlt\" (1; #37), 3.0),\n",
       " (\"KitchenQual\" (4; #44), 3.0),\n",
       " (\"GarageArea\" (1; #31), 2.0),\n",
       " (\"TotalBsmtSF\" (1; #73), 2.0),\n",
       " (\"1stFlrSF\" (1; #0), 1.0)]"
      ]
     },
     "execution_count": 26,
     "metadata": {},
     "output_type": "execute_result"
    }
   ],
   "source": [
    "inspector.variable_importances()['NUM_AS_ROOT']"
   ]
  },
  {
   "cell_type": "markdown",
   "id": "78535cf7",
   "metadata": {
    "papermill": {
     "duration": 0.027233,
     "end_time": "2023-05-20T05:49:12.875352",
     "exception": false,
     "start_time": "2023-05-20T05:49:12.848119",
     "status": "completed"
    },
    "tags": []
   },
   "source": [
    "Plot the variable importances from the inspector using Matplotlib"
   ]
  },
  {
   "cell_type": "code",
   "execution_count": 27,
   "id": "fcd33824",
   "metadata": {
    "execution": {
     "iopub.execute_input": "2023-05-20T05:49:12.933136Z",
     "iopub.status.busy": "2023-05-20T05:49:12.932739Z",
     "iopub.status.idle": "2023-05-20T05:49:12.943783Z",
     "shell.execute_reply": "2023-05-20T05:49:12.942632Z"
    },
    "papermill": {
     "duration": 0.042783,
     "end_time": "2023-05-20T05:49:12.946418",
     "exception": false,
     "start_time": "2023-05-20T05:49:12.903635",
     "status": "completed"
    },
    "tags": []
   },
   "outputs": [
    {
     "name": "stdout",
     "output_type": "stream",
     "text": [
      "[(\"OverallQual\" (1; #62), 129.0), (\"ExterQual\" (4; #22), 52.0), (\"GarageCars\" (1; #32), 43.0), (\"Neighborhood\" (4; #59), 37.0), (\"YearBuilt\" (1; #76), 16.0), (\"BsmtQual\" (4; #14), 6.0), (\"GrLivArea\" (1; #38), 6.0), (\"GarageYrBlt\" (1; #37), 3.0), (\"KitchenQual\" (4; #44), 3.0), (\"GarageArea\" (1; #31), 2.0), (\"TotalBsmtSF\" (1; #73), 2.0), (\"1stFlrSF\" (1; #0), 1.0)]\n"
     ]
    },
    {
     "data": {
      "text/plain": [
       "<Figure size 1200x400 with 0 Axes>"
      ]
     },
     "metadata": {},
     "output_type": "display_data"
    }
   ],
   "source": [
    "plt.figure(figsize=(12,4))\n",
    "variable_importance_metric = \"NUM_AS_ROOT\"\n",
    "variable_importances = inspector.variable_importances()[variable_importance_metric]\n",
    "print(variable_importances)"
   ]
  },
  {
   "cell_type": "code",
   "execution_count": 28,
   "id": "d3da110c",
   "metadata": {
    "execution": {
     "iopub.execute_input": "2023-05-20T05:49:13.004573Z",
     "iopub.status.busy": "2023-05-20T05:49:13.004191Z",
     "iopub.status.idle": "2023-05-20T05:49:13.010722Z",
     "shell.execute_reply": "2023-05-20T05:49:13.009442Z"
    },
    "papermill": {
     "duration": 0.039167,
     "end_time": "2023-05-20T05:49:13.013452",
     "exception": false,
     "start_time": "2023-05-20T05:49:12.974285",
     "status": "completed"
    },
    "tags": []
   },
   "outputs": [
    {
     "name": "stdout",
     "output_type": "stream",
     "text": [
      "OverallQual => 129.0\n",
      "ExterQual => 52.0\n",
      "GarageCars => 43.0\n",
      "Neighborhood => 37.0\n",
      "YearBuilt => 16.0\n",
      "BsmtQual => 6.0\n",
      "GrLivArea => 6.0\n",
      "GarageYrBlt => 3.0\n",
      "KitchenQual => 3.0\n",
      "GarageArea => 2.0\n",
      "TotalBsmtSF => 2.0\n",
      "1stFlrSF => 1.0\n"
     ]
    }
   ],
   "source": [
    "feature_names = [var[0].name for var in  variable_importances]\n",
    "feature_importance = [var[1] for var in  variable_importances]\n",
    "for i in range(len(feature_names)):\n",
    "    print(f\"{feature_names[i]} => {feature_importance[i]}\")"
   ]
  },
  {
   "cell_type": "code",
   "execution_count": 29,
   "id": "8be12dad",
   "metadata": {
    "execution": {
     "iopub.execute_input": "2023-05-20T05:49:13.071211Z",
     "iopub.status.busy": "2023-05-20T05:49:13.070821Z",
     "iopub.status.idle": "2023-05-20T05:49:13.372065Z",
     "shell.execute_reply": "2023-05-20T05:49:13.371242Z"
    },
    "papermill": {
     "duration": 0.332791,
     "end_time": "2023-05-20T05:49:13.374237",
     "exception": false,
     "start_time": "2023-05-20T05:49:13.041446",
     "status": "completed"
    },
    "tags": []
   },
   "outputs": [
    {
     "name": "stdout",
     "output_type": "stream",
     "text": [
      "129.0\n",
      "Rectangle(xy=(0, -0.4), width=129, height=0.8, angle=0)\n",
      "52.0\n",
      "Rectangle(xy=(0, 0.6), width=52, height=0.8, angle=0)\n",
      "43.0\n",
      "Rectangle(xy=(0, 1.6), width=43, height=0.8, angle=0)\n",
      "37.0\n",
      "Rectangle(xy=(0, 2.6), width=37, height=0.8, angle=0)\n",
      "16.0\n",
      "Rectangle(xy=(0, 3.6), width=16, height=0.8, angle=0)\n",
      "6.0\n",
      "Rectangle(xy=(0, 4.6), width=6, height=0.8, angle=0)\n",
      "6.0\n",
      "Rectangle(xy=(0, 5.6), width=6, height=0.8, angle=0)\n",
      "3.0\n",
      "Rectangle(xy=(0, 6.6), width=3, height=0.8, angle=0)\n",
      "3.0\n",
      "Rectangle(xy=(0, 7.6), width=3, height=0.8, angle=0)\n",
      "2.0\n",
      "Rectangle(xy=(0, 8.6), width=2, height=0.8, angle=0)\n",
      "2.0\n",
      "Rectangle(xy=(0, 9.6), width=2, height=0.8, angle=0)\n",
      "1.0\n",
      "Rectangle(xy=(0, 10.6), width=1, height=0.8, angle=0)\n"
     ]
    },
    {
     "data": {
      "image/png": "[encoded data removed]",
      "text/plain": [
       "<Figure size 640x480 with 1 Axes>"
      ]
     },
     "metadata": {},
     "output_type": "display_data"
    }
   ],
   "source": [
    "feature_ranks = range(len(feature_names))\n",
    "bar = plt.barh(feature_ranks, feature_importance, label=[str(x) for x in feature_ranks])\n",
    "plt.yticks(feature_ranks, feature_names)\n",
    "plt.gca().invert_yaxis()\n",
    "\n",
    "for importance, patch in zip(feature_importance, bar.patches):\n",
    "    print(importance)\n",
    "    print(patch)\n",
    "    plt.text(patch.get_x() + patch.get_width(), \n",
    "             patch.get_y(), \n",
    "             importance, \n",
    "             va = \"top\")\n",
    "\n",
    "plt.xlabel(variable_importance_metric)\n",
    "plt.title(\"NUM AS ROOT of the class 1 vs the others\")\n",
    "plt.tight_layout()\n",
    "plt.show()"
   ]
  },
  {
   "cell_type": "markdown",
   "id": "88421a1f",
   "metadata": {
    "execution": {
     "iopub.execute_input": "2023-05-18T04:27:17.133221Z",
     "iopub.status.busy": "2023-05-18T04:27:17.132848Z",
     "iopub.status.idle": "2023-05-18T04:27:17.139532Z",
     "shell.execute_reply": "2023-05-18T04:27:17.138021Z",
     "shell.execute_reply.started": "2023-05-18T04:27:17.133192Z"
    },
    "papermill": {
     "duration": 0.028557,
     "end_time": "2023-05-20T05:49:13.431747",
     "exception": false,
     "start_time": "2023-05-20T05:49:13.403190",
     "status": "completed"
    },
    "tags": []
   },
   "source": [
    "## Submission\n",
    "\n",
    "Finally predict on the competition test data using the model."
   ]
  },
  {
   "cell_type": "code",
   "execution_count": 30,
   "id": "82d4bff0",
   "metadata": {
    "execution": {
     "iopub.execute_input": "2023-05-20T05:49:13.491926Z",
     "iopub.status.busy": "2023-05-20T05:49:13.490829Z",
     "iopub.status.idle": "2023-05-20T05:49:13.533590Z",
     "shell.execute_reply": "2023-05-20T05:49:13.532398Z"
    },
    "papermill": {
     "duration": 0.075823,
     "end_time": "2023-05-20T05:49:13.536369",
     "exception": false,
     "start_time": "2023-05-20T05:49:13.460546",
     "status": "completed"
    },
    "tags": []
   },
   "outputs": [],
   "source": [
    "test_file_path = \"../input/house-prices-advanced-regression-techniques/test.csv\"\n",
    "\n",
    "test_data = pd.read_csv(test_file_path)"
   ]
  },
  {
   "cell_type": "code",
   "execution_count": 31,
   "id": "c7827fae",
   "metadata": {
    "execution": {
     "iopub.execute_input": "2023-05-20T05:49:13.596325Z",
     "iopub.status.busy": "2023-05-20T05:49:13.595901Z",
     "iopub.status.idle": "2023-05-20T05:49:13.601707Z",
     "shell.execute_reply": "2023-05-20T05:49:13.600702Z"
    },
    "papermill": {
     "duration": 0.038252,
     "end_time": "2023-05-20T05:49:13.603812",
     "exception": false,
     "start_time": "2023-05-20T05:49:13.565560",
     "status": "completed"
    },
    "tags": []
   },
   "outputs": [],
   "source": [
    "ids = test_data.pop('Id')"
   ]
  },
  {
   "cell_type": "code",
   "execution_count": 32,
   "id": "b06e2627",
   "metadata": {
    "execution": {
     "iopub.execute_input": "2023-05-20T05:49:13.663900Z",
     "iopub.status.busy": "2023-05-20T05:49:13.663497Z",
     "iopub.status.idle": "2023-05-20T05:49:13.809618Z",
     "shell.execute_reply": "2023-05-20T05:49:13.808420Z"
    },
    "papermill": {
     "duration": 0.179602,
     "end_time": "2023-05-20T05:49:13.812367",
     "exception": false,
     "start_time": "2023-05-20T05:49:13.632765",
     "status": "completed"
    },
    "tags": []
   },
   "outputs": [],
   "source": [
    "test_ds = tfdf.keras.pd_dataframe_to_tf_dataset(\n",
    "    test_data, \n",
    "    task = tfdf.keras.Task.REGRESSION\n",
    ")"
   ]
  },
  {
   "cell_type": "code",
   "execution_count": 33,
   "id": "32fb831b",
   "metadata": {
    "execution": {
     "iopub.execute_input": "2023-05-20T05:49:13.871738Z",
     "iopub.status.busy": "2023-05-20T05:49:13.871295Z",
     "iopub.status.idle": "2023-05-20T05:49:14.883686Z",
     "shell.execute_reply": "2023-05-20T05:49:14.882493Z"
    },
    "papermill": {
     "duration": 1.045283,
     "end_time": "2023-05-20T05:49:14.886552",
     "exception": false,
     "start_time": "2023-05-20T05:49:13.841269",
     "status": "completed"
    },
    "tags": []
   },
   "outputs": [
    {
     "name": "stdout",
     "output_type": "stream",
     "text": [
      "2/2 [==============================] - 1s 23ms/step\n"
     ]
    }
   ],
   "source": [
    "preds = rf.predict(test_ds)"
   ]
  },
  {
   "cell_type": "code",
   "execution_count": 34,
   "id": "abfa4242",
   "metadata": {
    "execution": {
     "iopub.execute_input": "2023-05-20T05:49:14.947779Z",
     "iopub.status.busy": "2023-05-20T05:49:14.947331Z",
     "iopub.status.idle": "2023-05-20T05:49:14.959066Z",
     "shell.execute_reply": "2023-05-20T05:49:14.958018Z"
    },
    "papermill": {
     "duration": 0.044757,
     "end_time": "2023-05-20T05:49:14.961399",
     "exception": false,
     "start_time": "2023-05-20T05:49:14.916642",
     "status": "completed"
    },
    "tags": []
   },
   "outputs": [
    {
     "data": {
      "text/html": [
       "<div>\n",
       "<style scoped>\n",
       "    .dataframe tbody tr th:only-of-type {\n",
       "        vertical-align: middle;\n",
       "    }\n",
       "\n",
       "    .dataframe tbody tr th {\n",
       "        vertical-align: top;\n",
       "    }\n",
       "\n",
       "    .dataframe thead th {\n",
       "        text-align: right;\n",
       "    }\n",
       "</style>\n",
       "<table border=\"1\" class=\"dataframe\">\n",
       "  <thead>\n",
       "    <tr style=\"text-align: right;\">\n",
       "      <th></th>\n",
       "      <th>Id</th>\n",
       "      <th>SalePrice</th>\n",
       "    </tr>\n",
       "  </thead>\n",
       "  <tbody>\n",
       "    <tr>\n",
       "      <th>0</th>\n",
       "      <td>1461</td>\n",
       "      <td>127252.398438</td>\n",
       "    </tr>\n",
       "    <tr>\n",
       "      <th>1</th>\n",
       "      <td>1462</td>\n",
       "      <td>152210.234375</td>\n",
       "    </tr>\n",
       "    <tr>\n",
       "      <th>2</th>\n",
       "      <td>1463</td>\n",
       "      <td>179203.062500</td>\n",
       "    </tr>\n",
       "    <tr>\n",
       "      <th>3</th>\n",
       "      <td>1464</td>\n",
       "      <td>180265.156250</td>\n",
       "    </tr>\n",
       "    <tr>\n",
       "      <th>4</th>\n",
       "      <td>1465</td>\n",
       "      <td>197639.187500</td>\n",
       "    </tr>\n",
       "  </tbody>\n",
       "</table>\n",
       "</div>"
      ],
      "text/plain": [
       "     Id      SalePrice\n",
       "0  1461  127252.398438\n",
       "1  1462  152210.234375\n",
       "2  1463  179203.062500\n",
       "3  1464  180265.156250\n",
       "4  1465  197639.187500"
      ]
     },
     "execution_count": 34,
     "metadata": {},
     "output_type": "execute_result"
    }
   ],
   "source": [
    "output = pd.DataFrame({'Id': ids, 'SalePrice': preds.squeeze()})\n",
    "output.head()"
   ]
  },
  {
   "cell_type": "code",
   "execution_count": 35,
   "id": "106ad9fa",
   "metadata": {
    "execution": {
     "iopub.execute_input": "2023-05-20T05:49:15.021564Z",
     "iopub.status.busy": "2023-05-20T05:49:15.021144Z",
     "iopub.status.idle": "2023-05-20T05:49:15.036250Z",
     "shell.execute_reply": "2023-05-20T05:49:15.035227Z"
    },
    "papermill": {
     "duration": 0.048057,
     "end_time": "2023-05-20T05:49:15.038765",
     "exception": false,
     "start_time": "2023-05-20T05:49:14.990708",
     "status": "completed"
    },
    "tags": []
   },
   "outputs": [],
   "source": [
    "sample_submission_df = pd.read_csv('../input/house-prices-advanced-regression-techniques/sample_submission.csv')"
   ]
  },
  {
   "cell_type": "code",
   "execution_count": 36,
   "id": "185fcbe3",
   "metadata": {
    "execution": {
     "iopub.execute_input": "2023-05-20T05:49:15.099875Z",
     "iopub.status.busy": "2023-05-20T05:49:15.099129Z",
     "iopub.status.idle": "2023-05-20T05:49:15.420640Z",
     "shell.execute_reply": "2023-05-20T05:49:15.419514Z"
    },
    "papermill": {
     "duration": 0.355176,
     "end_time": "2023-05-20T05:49:15.423314",
     "exception": false,
     "start_time": "2023-05-20T05:49:15.068138",
     "status": "completed"
    },
    "tags": []
   },
   "outputs": [
    {
     "name": "stdout",
     "output_type": "stream",
     "text": [
      "2/2 [==============================] - 0s 24ms/step\n"
     ]
    }
   ],
   "source": [
    "sample_submission_df['SalePrice']  = rf.predict(test_ds)"
   ]
  },
  {
   "cell_type": "code",
   "execution_count": 37,
   "id": "754db786",
   "metadata": {
    "execution": {
     "iopub.execute_input": "2023-05-20T05:49:15.485898Z",
     "iopub.status.busy": "2023-05-20T05:49:15.484925Z",
     "iopub.status.idle": "2023-05-20T05:49:15.497328Z",
     "shell.execute_reply": "2023-05-20T05:49:15.496388Z"
    },
    "papermill": {
     "duration": 0.045786,
     "end_time": "2023-05-20T05:49:15.499499",
     "exception": false,
     "start_time": "2023-05-20T05:49:15.453713",
     "status": "completed"
    },
    "tags": []
   },
   "outputs": [
    {
     "data": {
      "text/html": [
       "<div>\n",
       "<style scoped>\n",
       "    .dataframe tbody tr th:only-of-type {\n",
       "        vertical-align: middle;\n",
       "    }\n",
       "\n",
       "    .dataframe tbody tr th {\n",
       "        vertical-align: top;\n",
       "    }\n",
       "\n",
       "    .dataframe thead th {\n",
       "        text-align: right;\n",
       "    }\n",
       "</style>\n",
       "<table border=\"1\" class=\"dataframe\">\n",
       "  <thead>\n",
       "    <tr style=\"text-align: right;\">\n",
       "      <th></th>\n",
       "      <th>Id</th>\n",
       "      <th>SalePrice</th>\n",
       "    </tr>\n",
       "  </thead>\n",
       "  <tbody>\n",
       "    <tr>\n",
       "      <th>0</th>\n",
       "      <td>1461</td>\n",
       "      <td>127252.398438</td>\n",
       "    </tr>\n",
       "    <tr>\n",
       "      <th>1</th>\n",
       "      <td>1462</td>\n",
       "      <td>152210.234375</td>\n",
       "    </tr>\n",
       "    <tr>\n",
       "      <th>2</th>\n",
       "      <td>1463</td>\n",
       "      <td>179203.062500</td>\n",
       "    </tr>\n",
       "    <tr>\n",
       "      <th>3</th>\n",
       "      <td>1464</td>\n",
       "      <td>180265.156250</td>\n",
       "    </tr>\n",
       "    <tr>\n",
       "      <th>4</th>\n",
       "      <td>1465</td>\n",
       "      <td>197639.187500</td>\n",
       "    </tr>\n",
       "    <tr>\n",
       "      <th>...</th>\n",
       "      <td>...</td>\n",
       "      <td>...</td>\n",
       "    </tr>\n",
       "    <tr>\n",
       "      <th>1454</th>\n",
       "      <td>2915</td>\n",
       "      <td>87946.562500</td>\n",
       "    </tr>\n",
       "    <tr>\n",
       "      <th>1455</th>\n",
       "      <td>2916</td>\n",
       "      <td>88251.289062</td>\n",
       "    </tr>\n",
       "    <tr>\n",
       "      <th>1456</th>\n",
       "      <td>2917</td>\n",
       "      <td>159963.250000</td>\n",
       "    </tr>\n",
       "    <tr>\n",
       "      <th>1457</th>\n",
       "      <td>2918</td>\n",
       "      <td>127462.734375</td>\n",
       "    </tr>\n",
       "    <tr>\n",
       "      <th>1458</th>\n",
       "      <td>2919</td>\n",
       "      <td>201412.343750</td>\n",
       "    </tr>\n",
       "  </tbody>\n",
       "</table>\n",
       "<p>1459 rows × 2 columns</p>\n",
       "</div>"
      ],
      "text/plain": [
       "        Id      SalePrice\n",
       "0     1461  127252.398438\n",
       "1     1462  152210.234375\n",
       "2     1463  179203.062500\n",
       "3     1464  180265.156250\n",
       "4     1465  197639.187500\n",
       "...    ...            ...\n",
       "1454  2915   87946.562500\n",
       "1455  2916   88251.289062\n",
       "1456  2917  159963.250000\n",
       "1457  2918  127462.734375\n",
       "1458  2919  201412.343750\n",
       "\n",
       "[1459 rows x 2 columns]"
      ]
     },
     "execution_count": 37,
     "metadata": {},
     "output_type": "execute_result"
    }
   ],
   "source": [
    "sample_submission_df"
   ]
  },
  {
   "cell_type": "code",
   "execution_count": 38,
   "id": "0c3d4f69",
   "metadata": {
    "execution": {
     "iopub.execute_input": "2023-05-20T05:49:15.562228Z",
     "iopub.status.busy": "2023-05-20T05:49:15.561123Z",
     "iopub.status.idle": "2023-05-20T05:49:15.577131Z",
     "shell.execute_reply": "2023-05-20T05:49:15.575947Z"
    },
    "papermill": {
     "duration": 0.049783,
     "end_time": "2023-05-20T05:49:15.579796",
     "exception": false,
     "start_time": "2023-05-20T05:49:15.530013",
     "status": "completed"
    },
    "tags": []
   },
   "outputs": [],
   "source": [
    "sample_submission_df.to_csv('/kaggle/working/submission.csv', index=False)"
   ]
  },
  {
   "cell_type": "code",
   "execution_count": 39,
   "id": "b21c6b36",
   "metadata": {
    "execution": {
     "iopub.execute_input": "2023-05-20T05:49:15.642259Z",
     "iopub.status.busy": "2023-05-20T05:49:15.641080Z",
     "iopub.status.idle": "2023-05-20T05:49:15.651015Z",
     "shell.execute_reply": "2023-05-20T05:49:15.650160Z"
    },
    "papermill": {
     "duration": 0.043732,
     "end_time": "2023-05-20T05:49:15.653078",
     "exception": false,
     "start_time": "2023-05-20T05:49:15.609346",
     "status": "completed"
    },
    "tags": []
   },
   "outputs": [
    {
     "data": {
      "text/html": [
       "<div>\n",
       "<style scoped>\n",
       "    .dataframe tbody tr th:only-of-type {\n",
       "        vertical-align: middle;\n",
       "    }\n",
       "\n",
       "    .dataframe tbody tr th {\n",
       "        vertical-align: top;\n",
       "    }\n",
       "\n",
       "    .dataframe thead th {\n",
       "        text-align: right;\n",
       "    }\n",
       "</style>\n",
       "<table border=\"1\" class=\"dataframe\">\n",
       "  <thead>\n",
       "    <tr style=\"text-align: right;\">\n",
       "      <th></th>\n",
       "      <th>Id</th>\n",
       "      <th>SalePrice</th>\n",
       "    </tr>\n",
       "  </thead>\n",
       "  <tbody>\n",
       "    <tr>\n",
       "      <th>0</th>\n",
       "      <td>1461</td>\n",
       "      <td>127252.398438</td>\n",
       "    </tr>\n",
       "    <tr>\n",
       "      <th>1</th>\n",
       "      <td>1462</td>\n",
       "      <td>152210.234375</td>\n",
       "    </tr>\n",
       "    <tr>\n",
       "      <th>2</th>\n",
       "      <td>1463</td>\n",
       "      <td>179203.062500</td>\n",
       "    </tr>\n",
       "    <tr>\n",
       "      <th>3</th>\n",
       "      <td>1464</td>\n",
       "      <td>180265.156250</td>\n",
       "    </tr>\n",
       "    <tr>\n",
       "      <th>4</th>\n",
       "      <td>1465</td>\n",
       "      <td>197639.187500</td>\n",
       "    </tr>\n",
       "  </tbody>\n",
       "</table>\n",
       "</div>"
      ],
      "text/plain": [
       "     Id      SalePrice\n",
       "0  1461  127252.398438\n",
       "1  1462  152210.234375\n",
       "2  1463  179203.062500\n",
       "3  1464  180265.156250\n",
       "4  1465  197639.187500"
      ]
     },
     "execution_count": 39,
     "metadata": {},
     "output_type": "execute_result"
    }
   ],
   "source": [
    "sample_submission_df.head()"
   ]
  },
  {
   "cell_type": "code",
   "execution_count": null,
   "id": "dae8ac7e",
   "metadata": {
    "papermill": {
     "duration": 0.029741,
     "end_time": "2023-05-20T05:49:15.712788",
     "exception": false,
     "start_time": "2023-05-20T05:49:15.683047",
     "status": "completed"
    },
    "tags": []
   },
   "outputs": [],
   "source": []
  }
 ],
 "metadata": {
  "kernelspec": {
   "display_name": "Python 3",
   "language": "python",
   "name": "python3"
  },
  "language_info": {
   "codemirror_mode": {
    "name": "ipython",
    "version": 3
   },
   "file_extension": ".py",
   "mimetype": "text/x-python",
   "name": "python",
   "nbconvert_exporter": "python",
   "pygments_lexer": "ipython3",
   "version": "3.10.10"
  },
  "papermill": {
   "default_parameters": {},
   "duration": 56.758579,
   "end_time": "2023-05-20T05:49:18.912218",
   "environment_variables": {},
   "exception": null,
   "input_path": "__notebook__.ipynb",
   "output_path": "__notebook__.ipynb",
   "parameters": {},
   "start_time": "2023-05-20T05:48:22.153639",
   "version": "2.4.0"
  }
 },
 "nbformat": 4,
 "nbformat_minor": 5
}
