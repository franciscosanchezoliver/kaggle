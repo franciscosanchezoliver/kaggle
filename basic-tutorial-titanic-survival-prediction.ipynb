{
 "cells": [
  {
   "cell_type": "markdown",
   "id": "366c141d",
   "metadata": {
    "papermill": {
     "duration": 0.009987,
     "end_time": "2023-05-25T03:55:07.789599",
     "exception": false,
     "start_time": "2023-05-25T03:55:07.779612",
     "status": "completed"
    },
    "tags": []
   },
   "source": [
    "# Libraries"
   ]
  },
  {
   "cell_type": "code",
   "execution_count": 1,
   "id": "b40a11c6",
   "metadata": {
    "execution": {
     "iopub.execute_input": "2023-05-25T03:55:07.811254Z",
     "iopub.status.busy": "2023-05-25T03:55:07.810099Z",
     "iopub.status.idle": "2023-05-25T03:55:09.726145Z",
     "shell.execute_reply": "2023-05-25T03:55:09.724886Z"
    },
    "papermill": {
     "duration": 1.930041,
     "end_time": "2023-05-25T03:55:09.729058",
     "exception": false,
     "start_time": "2023-05-25T03:55:07.799017",
     "status": "completed"
    },
    "tags": []
   },
   "outputs": [
    {
     "name": "stderr",
     "output_type": "stream",
     "text": [
      "/opt/conda/lib/python3.10/site-packages/scipy/__init__.py:146: UserWarning: A NumPy version >=1.16.5 and <1.23.0 is required for this version of SciPy (detected version 1.23.5\n",
      "  warnings.warn(f\"A NumPy version >={np_minversion} and <{np_maxversion}\"\n"
     ]
    }
   ],
   "source": [
    "import pandas as pd\n",
    "from sklearn.ensemble import RandomForestClassifier"
   ]
  },
  {
   "cell_type": "markdown",
   "id": "57cf671a",
   "metadata": {
    "papermill": {
     "duration": 0.009355,
     "end_time": "2023-05-25T03:55:09.748265",
     "exception": false,
     "start_time": "2023-05-25T03:55:09.738910",
     "status": "completed"
    },
    "tags": []
   },
   "source": [
    "## Read of the data"
   ]
  },
  {
   "cell_type": "markdown",
   "id": "46ecf3f4",
   "metadata": {
    "papermill": {
     "duration": 0.009348,
     "end_time": "2023-05-25T03:55:09.767153",
     "exception": false,
     "start_time": "2023-05-25T03:55:09.757805",
     "status": "completed"
    },
    "tags": []
   },
   "source": [
    "### Train data"
   ]
  },
  {
   "cell_type": "code",
   "execution_count": 2,
   "id": "77873bbf",
   "metadata": {
    "execution": {
     "iopub.execute_input": "2023-05-25T03:55:09.788381Z",
     "iopub.status.busy": "2023-05-25T03:55:09.787934Z",
     "iopub.status.idle": "2023-05-25T03:55:09.853107Z",
     "shell.execute_reply": "2023-05-25T03:55:09.852226Z"
    },
    "papermill": {
     "duration": 0.078967,
     "end_time": "2023-05-25T03:55:09.855547",
     "exception": false,
     "start_time": "2023-05-25T03:55:09.776580",
     "status": "completed"
    },
    "tags": []
   },
   "outputs": [
    {
     "data": {
      "text/html": [
       "<div>\n",
       "<style scoped>\n",
       "    .dataframe tbody tr th:only-of-type {\n",
       "        vertical-align: middle;\n",
       "    }\n",
       "\n",
       "    .dataframe tbody tr th {\n",
       "        vertical-align: top;\n",
       "    }\n",
       "\n",
       "    .dataframe thead th {\n",
       "        text-align: right;\n",
       "    }\n",
       "</style>\n",
       "<table border=\"1\" class=\"dataframe\">\n",
       "  <thead>\n",
       "    <tr style=\"text-align: right;\">\n",
       "      <th></th>\n",
       "      <th>PassengerId</th>\n",
       "      <th>Survived</th>\n",
       "      <th>Pclass</th>\n",
       "      <th>Name</th>\n",
       "      <th>Sex</th>\n",
       "      <th>Age</th>\n",
       "      <th>SibSp</th>\n",
       "      <th>Parch</th>\n",
       "      <th>Ticket</th>\n",
       "      <th>Fare</th>\n",
       "      <th>Cabin</th>\n",
       "      <th>Embarked</th>\n",
       "    </tr>\n",
       "  </thead>\n",
       "  <tbody>\n",
       "    <tr>\n",
       "      <th>0</th>\n",
       "      <td>1</td>\n",
       "      <td>0</td>\n",
       "      <td>3</td>\n",
       "      <td>Braund, Mr. Owen Harris</td>\n",
       "      <td>male</td>\n",
       "      <td>22.0</td>\n",
       "      <td>1</td>\n",
       "      <td>0</td>\n",
       "      <td>A/5 21171</td>\n",
       "      <td>7.2500</td>\n",
       "      <td>NaN</td>\n",
       "      <td>S</td>\n",
       "    </tr>\n",
       "    <tr>\n",
       "      <th>1</th>\n",
       "      <td>2</td>\n",
       "      <td>1</td>\n",
       "      <td>1</td>\n",
       "      <td>Cumings, Mrs. John Bradley (Florence Briggs Th...</td>\n",
       "      <td>female</td>\n",
       "      <td>38.0</td>\n",
       "      <td>1</td>\n",
       "      <td>0</td>\n",
       "      <td>PC 17599</td>\n",
       "      <td>71.2833</td>\n",
       "      <td>C85</td>\n",
       "      <td>C</td>\n",
       "    </tr>\n",
       "  </tbody>\n",
       "</table>\n",
       "</div>"
      ],
      "text/plain": [
       "   PassengerId  Survived  Pclass  \\\n",
       "0            1         0       3   \n",
       "1            2         1       1   \n",
       "\n",
       "                                                Name     Sex   Age  SibSp  \\\n",
       "0                            Braund, Mr. Owen Harris    male  22.0      1   \n",
       "1  Cumings, Mrs. John Bradley (Florence Briggs Th...  female  38.0      1   \n",
       "\n",
       "   Parch     Ticket     Fare Cabin Embarked  \n",
       "0      0  A/5 21171   7.2500   NaN        S  \n",
       "1      0   PC 17599  71.2833   C85        C  "
      ]
     },
     "execution_count": 2,
     "metadata": {},
     "output_type": "execute_result"
    }
   ],
   "source": [
    "df_train = pd.read_csv('/kaggle/input/titanic/train.csv')\n",
    "df_train.head(2)"
   ]
  },
  {
   "cell_type": "markdown",
   "id": "41e4529f",
   "metadata": {
    "papermill": {
     "duration": 0.009652,
     "end_time": "2023-05-25T03:55:09.875106",
     "exception": false,
     "start_time": "2023-05-25T03:55:09.865454",
     "status": "completed"
    },
    "tags": []
   },
   "source": [
    "### Test data"
   ]
  },
  {
   "cell_type": "code",
   "execution_count": 3,
   "id": "43382ffc",
   "metadata": {
    "execution": {
     "iopub.execute_input": "2023-05-25T03:55:09.896907Z",
     "iopub.status.busy": "2023-05-25T03:55:09.896222Z",
     "iopub.status.idle": "2023-05-25T03:55:09.918886Z",
     "shell.execute_reply": "2023-05-25T03:55:09.918006Z"
    },
    "papermill": {
     "duration": 0.036644,
     "end_time": "2023-05-25T03:55:09.921556",
     "exception": false,
     "start_time": "2023-05-25T03:55:09.884912",
     "status": "completed"
    },
    "tags": []
   },
   "outputs": [
    {
     "data": {
      "text/html": [
       "<div>\n",
       "<style scoped>\n",
       "    .dataframe tbody tr th:only-of-type {\n",
       "        vertical-align: middle;\n",
       "    }\n",
       "\n",
       "    .dataframe tbody tr th {\n",
       "        vertical-align: top;\n",
       "    }\n",
       "\n",
       "    .dataframe thead th {\n",
       "        text-align: right;\n",
       "    }\n",
       "</style>\n",
       "<table border=\"1\" class=\"dataframe\">\n",
       "  <thead>\n",
       "    <tr style=\"text-align: right;\">\n",
       "      <th></th>\n",
       "      <th>PassengerId</th>\n",
       "      <th>Pclass</th>\n",
       "      <th>Name</th>\n",
       "      <th>Sex</th>\n",
       "      <th>Age</th>\n",
       "      <th>SibSp</th>\n",
       "      <th>Parch</th>\n",
       "      <th>Ticket</th>\n",
       "      <th>Fare</th>\n",
       "      <th>Cabin</th>\n",
       "      <th>Embarked</th>\n",
       "    </tr>\n",
       "  </thead>\n",
       "  <tbody>\n",
       "    <tr>\n",
       "      <th>0</th>\n",
       "      <td>892</td>\n",
       "      <td>3</td>\n",
       "      <td>Kelly, Mr. James</td>\n",
       "      <td>male</td>\n",
       "      <td>34.5</td>\n",
       "      <td>0</td>\n",
       "      <td>0</td>\n",
       "      <td>330911</td>\n",
       "      <td>7.8292</td>\n",
       "      <td>NaN</td>\n",
       "      <td>Q</td>\n",
       "    </tr>\n",
       "    <tr>\n",
       "      <th>1</th>\n",
       "      <td>893</td>\n",
       "      <td>3</td>\n",
       "      <td>Wilkes, Mrs. James (Ellen Needs)</td>\n",
       "      <td>female</td>\n",
       "      <td>47.0</td>\n",
       "      <td>1</td>\n",
       "      <td>0</td>\n",
       "      <td>363272</td>\n",
       "      <td>7.0000</td>\n",
       "      <td>NaN</td>\n",
       "      <td>S</td>\n",
       "    </tr>\n",
       "  </tbody>\n",
       "</table>\n",
       "</div>"
      ],
      "text/plain": [
       "   PassengerId  Pclass                              Name     Sex   Age  SibSp  \\\n",
       "0          892       3                  Kelly, Mr. James    male  34.5      0   \n",
       "1          893       3  Wilkes, Mrs. James (Ellen Needs)  female  47.0      1   \n",
       "\n",
       "   Parch  Ticket    Fare Cabin Embarked  \n",
       "0      0  330911  7.8292   NaN        Q  \n",
       "1      0  363272  7.0000   NaN        S  "
      ]
     },
     "execution_count": 3,
     "metadata": {},
     "output_type": "execute_result"
    }
   ],
   "source": [
    "df_test = pd.read_csv('/kaggle/input/titanic/test.csv')\n",
    "df_test.head(2)"
   ]
  },
  {
   "cell_type": "markdown",
   "id": "6924be6d",
   "metadata": {
    "papermill": {
     "duration": 0.009892,
     "end_time": "2023-05-25T03:55:09.941920",
     "exception": false,
     "start_time": "2023-05-25T03:55:09.932028",
     "status": "completed"
    },
    "tags": []
   },
   "source": [
    "### Example Submission"
   ]
  },
  {
   "cell_type": "code",
   "execution_count": 4,
   "id": "f576342d",
   "metadata": {
    "execution": {
     "iopub.execute_input": "2023-05-25T03:55:09.963993Z",
     "iopub.status.busy": "2023-05-25T03:55:09.963326Z",
     "iopub.status.idle": "2023-05-25T03:55:09.980371Z",
     "shell.execute_reply": "2023-05-25T03:55:09.979203Z"
    },
    "papermill": {
     "duration": 0.031556,
     "end_time": "2023-05-25T03:55:09.983444",
     "exception": false,
     "start_time": "2023-05-25T03:55:09.951888",
     "status": "completed"
    },
    "tags": []
   },
   "outputs": [
    {
     "data": {
      "text/html": [
       "<div>\n",
       "<style scoped>\n",
       "    .dataframe tbody tr th:only-of-type {\n",
       "        vertical-align: middle;\n",
       "    }\n",
       "\n",
       "    .dataframe tbody tr th {\n",
       "        vertical-align: top;\n",
       "    }\n",
       "\n",
       "    .dataframe thead th {\n",
       "        text-align: right;\n",
       "    }\n",
       "</style>\n",
       "<table border=\"1\" class=\"dataframe\">\n",
       "  <thead>\n",
       "    <tr style=\"text-align: right;\">\n",
       "      <th></th>\n",
       "      <th>PassengerId</th>\n",
       "      <th>Survived</th>\n",
       "    </tr>\n",
       "  </thead>\n",
       "  <tbody>\n",
       "    <tr>\n",
       "      <th>0</th>\n",
       "      <td>892</td>\n",
       "      <td>0</td>\n",
       "    </tr>\n",
       "    <tr>\n",
       "      <th>1</th>\n",
       "      <td>893</td>\n",
       "      <td>1</td>\n",
       "    </tr>\n",
       "  </tbody>\n",
       "</table>\n",
       "</div>"
      ],
      "text/plain": [
       "   PassengerId  Survived\n",
       "0          892         0\n",
       "1          893         1"
      ]
     },
     "execution_count": 4,
     "metadata": {},
     "output_type": "execute_result"
    }
   ],
   "source": [
    "df_example_submission = pd.read_csv('/kaggle/input/titanic/gender_submission.csv')\n",
    "df_example_submission.head(2)"
   ]
  },
  {
   "cell_type": "markdown",
   "id": "54d74171",
   "metadata": {
    "papermill": {
     "duration": 0.01017,
     "end_time": "2023-05-25T03:55:10.004504",
     "exception": false,
     "start_time": "2023-05-25T03:55:09.994334",
     "status": "completed"
    },
    "tags": []
   },
   "source": [
    "## Random Forest Model"
   ]
  },
  {
   "cell_type": "markdown",
   "id": "ae6db014",
   "metadata": {
    "papermill": {
     "duration": 0.010138,
     "end_time": "2023-05-25T03:55:10.025250",
     "exception": false,
     "start_time": "2023-05-25T03:55:10.015112",
     "status": "completed"
    },
    "tags": []
   },
   "source": [
    "We'll use only 4 columns: \n",
    "  - Pclass\n",
    "  - Sex\n",
    "  - SibSp\n",
    "  - Parch\n",
    "    \n",
    "To predict the target variable \"Survived\""
   ]
  },
  {
   "cell_type": "markdown",
   "id": "80df199c",
   "metadata": {
    "papermill": {
     "duration": 0.010025,
     "end_time": "2023-05-25T03:55:10.045567",
     "exception": false,
     "start_time": "2023-05-25T03:55:10.035542",
     "status": "completed"
    },
    "tags": []
   },
   "source": [
    "Target variable."
   ]
  },
  {
   "cell_type": "code",
   "execution_count": 5,
   "id": "edb54112",
   "metadata": {
    "execution": {
     "iopub.execute_input": "2023-05-25T03:55:10.068051Z",
     "iopub.status.busy": "2023-05-25T03:55:10.067646Z",
     "iopub.status.idle": "2023-05-25T03:55:10.073375Z",
     "shell.execute_reply": "2023-05-25T03:55:10.071942Z"
    },
    "papermill": {
     "duration": 0.019681,
     "end_time": "2023-05-25T03:55:10.075833",
     "exception": false,
     "start_time": "2023-05-25T03:55:10.056152",
     "status": "completed"
    },
    "tags": []
   },
   "outputs": [],
   "source": [
    "y = df_train['Survived']"
   ]
  },
  {
   "cell_type": "markdown",
   "id": "58457d6e",
   "metadata": {
    "papermill": {
     "duration": 0.010359,
     "end_time": "2023-05-25T03:55:10.096416",
     "exception": false,
     "start_time": "2023-05-25T03:55:10.086057",
     "status": "completed"
    },
    "tags": []
   },
   "source": [
    "Show the columns that we have"
   ]
  },
  {
   "cell_type": "code",
   "execution_count": 6,
   "id": "c9dac2b0",
   "metadata": {
    "execution": {
     "iopub.execute_input": "2023-05-25T03:55:10.118482Z",
     "iopub.status.busy": "2023-05-25T03:55:10.117987Z",
     "iopub.status.idle": "2023-05-25T03:55:10.125198Z",
     "shell.execute_reply": "2023-05-25T03:55:10.124203Z"
    },
    "papermill": {
     "duration": 0.021007,
     "end_time": "2023-05-25T03:55:10.127519",
     "exception": false,
     "start_time": "2023-05-25T03:55:10.106512",
     "status": "completed"
    },
    "tags": []
   },
   "outputs": [
    {
     "data": {
      "text/plain": [
       "Index(['PassengerId', 'Survived', 'Pclass', 'Name', 'Sex', 'Age', 'SibSp',\n",
       "       'Parch', 'Ticket', 'Fare', 'Cabin', 'Embarked'],\n",
       "      dtype='object')"
      ]
     },
     "execution_count": 6,
     "metadata": {},
     "output_type": "execute_result"
    }
   ],
   "source": [
    "df_train.columns"
   ]
  },
  {
   "cell_type": "markdown",
   "id": "e222e32e",
   "metadata": {
    "papermill": {
     "duration": 0.0098,
     "end_time": "2023-05-25T03:55:10.147590",
     "exception": false,
     "start_time": "2023-05-25T03:55:10.137790",
     "status": "completed"
    },
    "tags": []
   },
   "source": [
    "Show the columns that we'll use to predict."
   ]
  },
  {
   "cell_type": "code",
   "execution_count": 7,
   "id": "d48e02ed",
   "metadata": {
    "execution": {
     "iopub.execute_input": "2023-05-25T03:55:10.169815Z",
     "iopub.status.busy": "2023-05-25T03:55:10.169395Z",
     "iopub.status.idle": "2023-05-25T03:55:10.193806Z",
     "shell.execute_reply": "2023-05-25T03:55:10.192612Z"
    },
    "papermill": {
     "duration": 0.038617,
     "end_time": "2023-05-25T03:55:10.196258",
     "exception": false,
     "start_time": "2023-05-25T03:55:10.157641",
     "status": "completed"
    },
    "tags": []
   },
   "outputs": [
    {
     "data": {
      "text/html": [
       "<div>\n",
       "<style scoped>\n",
       "    .dataframe tbody tr th:only-of-type {\n",
       "        vertical-align: middle;\n",
       "    }\n",
       "\n",
       "    .dataframe tbody tr th {\n",
       "        vertical-align: top;\n",
       "    }\n",
       "\n",
       "    .dataframe thead th {\n",
       "        text-align: right;\n",
       "    }\n",
       "</style>\n",
       "<table border=\"1\" class=\"dataframe\">\n",
       "  <thead>\n",
       "    <tr style=\"text-align: right;\">\n",
       "      <th></th>\n",
       "      <th>Pclass</th>\n",
       "      <th>Sex</th>\n",
       "      <th>SibSp</th>\n",
       "      <th>Parch</th>\n",
       "    </tr>\n",
       "  </thead>\n",
       "  <tbody>\n",
       "    <tr>\n",
       "      <th>0</th>\n",
       "      <td>3</td>\n",
       "      <td>male</td>\n",
       "      <td>1</td>\n",
       "      <td>0</td>\n",
       "    </tr>\n",
       "    <tr>\n",
       "      <th>1</th>\n",
       "      <td>1</td>\n",
       "      <td>female</td>\n",
       "      <td>1</td>\n",
       "      <td>0</td>\n",
       "    </tr>\n",
       "    <tr>\n",
       "      <th>2</th>\n",
       "      <td>3</td>\n",
       "      <td>female</td>\n",
       "      <td>0</td>\n",
       "      <td>0</td>\n",
       "    </tr>\n",
       "    <tr>\n",
       "      <th>3</th>\n",
       "      <td>1</td>\n",
       "      <td>female</td>\n",
       "      <td>1</td>\n",
       "      <td>0</td>\n",
       "    </tr>\n",
       "    <tr>\n",
       "      <th>4</th>\n",
       "      <td>3</td>\n",
       "      <td>male</td>\n",
       "      <td>0</td>\n",
       "      <td>0</td>\n",
       "    </tr>\n",
       "    <tr>\n",
       "      <th>...</th>\n",
       "      <td>...</td>\n",
       "      <td>...</td>\n",
       "      <td>...</td>\n",
       "      <td>...</td>\n",
       "    </tr>\n",
       "    <tr>\n",
       "      <th>886</th>\n",
       "      <td>2</td>\n",
       "      <td>male</td>\n",
       "      <td>0</td>\n",
       "      <td>0</td>\n",
       "    </tr>\n",
       "    <tr>\n",
       "      <th>887</th>\n",
       "      <td>1</td>\n",
       "      <td>female</td>\n",
       "      <td>0</td>\n",
       "      <td>0</td>\n",
       "    </tr>\n",
       "    <tr>\n",
       "      <th>888</th>\n",
       "      <td>3</td>\n",
       "      <td>female</td>\n",
       "      <td>1</td>\n",
       "      <td>2</td>\n",
       "    </tr>\n",
       "    <tr>\n",
       "      <th>889</th>\n",
       "      <td>1</td>\n",
       "      <td>male</td>\n",
       "      <td>0</td>\n",
       "      <td>0</td>\n",
       "    </tr>\n",
       "    <tr>\n",
       "      <th>890</th>\n",
       "      <td>3</td>\n",
       "      <td>male</td>\n",
       "      <td>0</td>\n",
       "      <td>0</td>\n",
       "    </tr>\n",
       "  </tbody>\n",
       "</table>\n",
       "<p>891 rows × 4 columns</p>\n",
       "</div>"
      ],
      "text/plain": [
       "     Pclass     Sex  SibSp  Parch\n",
       "0         3    male      1      0\n",
       "1         1  female      1      0\n",
       "2         3  female      0      0\n",
       "3         1  female      1      0\n",
       "4         3    male      0      0\n",
       "..      ...     ...    ...    ...\n",
       "886       2    male      0      0\n",
       "887       1  female      0      0\n",
       "888       3  female      1      2\n",
       "889       1    male      0      0\n",
       "890       3    male      0      0\n",
       "\n",
       "[891 rows x 4 columns]"
      ]
     },
     "execution_count": 7,
     "metadata": {},
     "output_type": "execute_result"
    }
   ],
   "source": [
    "df_train[[\"Pclass\", \"Sex\", \"SibSp\", \"Parch\"]]"
   ]
  },
  {
   "cell_type": "markdown",
   "id": "a3860d45",
   "metadata": {
    "papermill": {
     "duration": 0.010501,
     "end_time": "2023-05-25T03:55:10.217402",
     "exception": false,
     "start_time": "2023-05-25T03:55:10.206901",
     "status": "completed"
    },
    "tags": []
   },
   "source": [
    "Create binary columns for the categorical column \"Sex\""
   ]
  },
  {
   "cell_type": "code",
   "execution_count": 8,
   "id": "7135ff1d",
   "metadata": {
    "execution": {
     "iopub.execute_input": "2023-05-25T03:55:10.241585Z",
     "iopub.status.busy": "2023-05-25T03:55:10.240332Z",
     "iopub.status.idle": "2023-05-25T03:55:10.264372Z",
     "shell.execute_reply": "2023-05-25T03:55:10.262963Z"
    },
    "papermill": {
     "duration": 0.039364,
     "end_time": "2023-05-25T03:55:10.267693",
     "exception": false,
     "start_time": "2023-05-25T03:55:10.228329",
     "status": "completed"
    },
    "tags": []
   },
   "outputs": [
    {
     "data": {
      "text/html": [
       "<div>\n",
       "<style scoped>\n",
       "    .dataframe tbody tr th:only-of-type {\n",
       "        vertical-align: middle;\n",
       "    }\n",
       "\n",
       "    .dataframe tbody tr th {\n",
       "        vertical-align: top;\n",
       "    }\n",
       "\n",
       "    .dataframe thead th {\n",
       "        text-align: right;\n",
       "    }\n",
       "</style>\n",
       "<table border=\"1\" class=\"dataframe\">\n",
       "  <thead>\n",
       "    <tr style=\"text-align: right;\">\n",
       "      <th></th>\n",
       "      <th>Pclass</th>\n",
       "      <th>SibSp</th>\n",
       "      <th>Parch</th>\n",
       "      <th>Sex_female</th>\n",
       "      <th>Sex_male</th>\n",
       "    </tr>\n",
       "  </thead>\n",
       "  <tbody>\n",
       "    <tr>\n",
       "      <th>0</th>\n",
       "      <td>3</td>\n",
       "      <td>1</td>\n",
       "      <td>0</td>\n",
       "      <td>0</td>\n",
       "      <td>1</td>\n",
       "    </tr>\n",
       "    <tr>\n",
       "      <th>1</th>\n",
       "      <td>1</td>\n",
       "      <td>1</td>\n",
       "      <td>0</td>\n",
       "      <td>1</td>\n",
       "      <td>0</td>\n",
       "    </tr>\n",
       "    <tr>\n",
       "      <th>2</th>\n",
       "      <td>3</td>\n",
       "      <td>0</td>\n",
       "      <td>0</td>\n",
       "      <td>1</td>\n",
       "      <td>0</td>\n",
       "    </tr>\n",
       "    <tr>\n",
       "      <th>3</th>\n",
       "      <td>1</td>\n",
       "      <td>1</td>\n",
       "      <td>0</td>\n",
       "      <td>1</td>\n",
       "      <td>0</td>\n",
       "    </tr>\n",
       "    <tr>\n",
       "      <th>4</th>\n",
       "      <td>3</td>\n",
       "      <td>0</td>\n",
       "      <td>0</td>\n",
       "      <td>0</td>\n",
       "      <td>1</td>\n",
       "    </tr>\n",
       "    <tr>\n",
       "      <th>...</th>\n",
       "      <td>...</td>\n",
       "      <td>...</td>\n",
       "      <td>...</td>\n",
       "      <td>...</td>\n",
       "      <td>...</td>\n",
       "    </tr>\n",
       "    <tr>\n",
       "      <th>886</th>\n",
       "      <td>2</td>\n",
       "      <td>0</td>\n",
       "      <td>0</td>\n",
       "      <td>0</td>\n",
       "      <td>1</td>\n",
       "    </tr>\n",
       "    <tr>\n",
       "      <th>887</th>\n",
       "      <td>1</td>\n",
       "      <td>0</td>\n",
       "      <td>0</td>\n",
       "      <td>1</td>\n",
       "      <td>0</td>\n",
       "    </tr>\n",
       "    <tr>\n",
       "      <th>888</th>\n",
       "      <td>3</td>\n",
       "      <td>1</td>\n",
       "      <td>2</td>\n",
       "      <td>1</td>\n",
       "      <td>0</td>\n",
       "    </tr>\n",
       "    <tr>\n",
       "      <th>889</th>\n",
       "      <td>1</td>\n",
       "      <td>0</td>\n",
       "      <td>0</td>\n",
       "      <td>0</td>\n",
       "      <td>1</td>\n",
       "    </tr>\n",
       "    <tr>\n",
       "      <th>890</th>\n",
       "      <td>3</td>\n",
       "      <td>0</td>\n",
       "      <td>0</td>\n",
       "      <td>0</td>\n",
       "      <td>1</td>\n",
       "    </tr>\n",
       "  </tbody>\n",
       "</table>\n",
       "<p>891 rows × 5 columns</p>\n",
       "</div>"
      ],
      "text/plain": [
       "     Pclass  SibSp  Parch  Sex_female  Sex_male\n",
       "0         3      1      0           0         1\n",
       "1         1      1      0           1         0\n",
       "2         3      0      0           1         0\n",
       "3         1      1      0           1         0\n",
       "4         3      0      0           0         1\n",
       "..      ...    ...    ...         ...       ...\n",
       "886       2      0      0           0         1\n",
       "887       1      0      0           1         0\n",
       "888       3      1      2           1         0\n",
       "889       1      0      0           0         1\n",
       "890       3      0      0           0         1\n",
       "\n",
       "[891 rows x 5 columns]"
      ]
     },
     "execution_count": 8,
     "metadata": {},
     "output_type": "execute_result"
    }
   ],
   "source": [
    "# If we convert all the categorical variables we need \n",
    "# to binary: \n",
    "features = [\"Pclass\", \"Sex\", \"SibSp\", \"Parch\"]\n",
    "pd.get_dummies(df_train[features])"
   ]
  },
  {
   "cell_type": "markdown",
   "id": "fc9b1fe5",
   "metadata": {
    "papermill": {
     "duration": 0.011173,
     "end_time": "2023-05-25T03:55:10.292451",
     "exception": false,
     "start_time": "2023-05-25T03:55:10.281278",
     "status": "completed"
    },
    "tags": []
   },
   "source": [
    "Select the training features for train and test."
   ]
  },
  {
   "cell_type": "code",
   "execution_count": 9,
   "id": "f95b2ff4",
   "metadata": {
    "execution": {
     "iopub.execute_input": "2023-05-25T03:55:10.315873Z",
     "iopub.status.busy": "2023-05-25T03:55:10.315456Z",
     "iopub.status.idle": "2023-05-25T03:55:10.324636Z",
     "shell.execute_reply": "2023-05-25T03:55:10.323521Z"
    },
    "papermill": {
     "duration": 0.023648,
     "end_time": "2023-05-25T03:55:10.326999",
     "exception": false,
     "start_time": "2023-05-25T03:55:10.303351",
     "status": "completed"
    },
    "tags": []
   },
   "outputs": [],
   "source": [
    "X_train = pd.get_dummies(df_train[features])\n",
    "y_train = df_train['Survived']"
   ]
  },
  {
   "cell_type": "code",
   "execution_count": 10,
   "id": "7b4de951",
   "metadata": {
    "execution": {
     "iopub.execute_input": "2023-05-25T03:55:10.350778Z",
     "iopub.status.busy": "2023-05-25T03:55:10.350319Z",
     "iopub.status.idle": "2023-05-25T03:55:10.359918Z",
     "shell.execute_reply": "2023-05-25T03:55:10.358746Z"
    },
    "papermill": {
     "duration": 0.024336,
     "end_time": "2023-05-25T03:55:10.362378",
     "exception": false,
     "start_time": "2023-05-25T03:55:10.338042",
     "status": "completed"
    },
    "tags": []
   },
   "outputs": [],
   "source": [
    "X_test = pd.get_dummies(df_test[features])"
   ]
  },
  {
   "cell_type": "code",
   "execution_count": 11,
   "id": "c836cc0d",
   "metadata": {
    "execution": {
     "iopub.execute_input": "2023-05-25T03:55:10.386238Z",
     "iopub.status.busy": "2023-05-25T03:55:10.385822Z",
     "iopub.status.idle": "2023-05-25T03:55:10.391412Z",
     "shell.execute_reply": "2023-05-25T03:55:10.390320Z"
    },
    "papermill": {
     "duration": 0.020371,
     "end_time": "2023-05-25T03:55:10.393702",
     "exception": false,
     "start_time": "2023-05-25T03:55:10.373331",
     "status": "completed"
    },
    "tags": []
   },
   "outputs": [
    {
     "name": "stdout",
     "output_type": "stream",
     "text": [
      "Training : 891\n",
      "Test : 418\n"
     ]
    }
   ],
   "source": [
    "print(f\"Training : {X_train.shape[0]}\" )\n",
    "print(f\"Test : {X_test.shape[0]}\" )"
   ]
  },
  {
   "cell_type": "markdown",
   "id": "84f1f0a3",
   "metadata": {
    "papermill": {
     "duration": 0.011118,
     "end_time": "2023-05-25T03:55:10.416541",
     "exception": false,
     "start_time": "2023-05-25T03:55:10.405423",
     "status": "completed"
    },
    "tags": []
   },
   "source": [
    "Creation of the object model."
   ]
  },
  {
   "cell_type": "code",
   "execution_count": 12,
   "id": "7787749d",
   "metadata": {
    "execution": {
     "iopub.execute_input": "2023-05-25T03:55:10.440849Z",
     "iopub.status.busy": "2023-05-25T03:55:10.440423Z",
     "iopub.status.idle": "2023-05-25T03:55:10.445196Z",
     "shell.execute_reply": "2023-05-25T03:55:10.444211Z"
    },
    "papermill": {
     "duration": 0.019503,
     "end_time": "2023-05-25T03:55:10.447504",
     "exception": false,
     "start_time": "2023-05-25T03:55:10.428001",
     "status": "completed"
    },
    "tags": []
   },
   "outputs": [],
   "source": [
    "random_forest_classifier = RandomForestClassifier(\n",
    "        n_estimators=100, # number of trees\n",
    "        max_depth=5,\n",
    "        random_state=1\n",
    ")"
   ]
  },
  {
   "cell_type": "code",
   "execution_count": 13,
   "id": "c53826be",
   "metadata": {
    "execution": {
     "iopub.execute_input": "2023-05-25T03:55:10.471627Z",
     "iopub.status.busy": "2023-05-25T03:55:10.471208Z",
     "iopub.status.idle": "2023-05-25T03:55:10.735112Z",
     "shell.execute_reply": "2023-05-25T03:55:10.734214Z"
    },
    "papermill": {
     "duration": 0.27968,
     "end_time": "2023-05-25T03:55:10.738110",
     "exception": false,
     "start_time": "2023-05-25T03:55:10.458430",
     "status": "completed"
    },
    "tags": []
   },
   "outputs": [
    {
     "data": {
      "text/html": [
       "<style>#sk-container-id-1 {color: black;background-color: white;}#sk-container-id-1 pre{padding: 0;}#sk-container-id-1 div.sk-toggleable {background-color: white;}#sk-container-id-1 label.sk-toggleable__label {cursor: pointer;display: block;width: 100%;margin-bottom: 0;padding: 0.3em;box-sizing: border-box;text-align: center;}#sk-container-id-1 label.sk-toggleable__label-arrow:before {content: \"▸\";float: left;margin-right: 0.25em;color: #696969;}#sk-container-id-1 label.sk-toggleable__label-arrow:hover:before {color: black;}#sk-container-id-1 div.sk-estimator:hover label.sk-toggleable__label-arrow:before {color: black;}#sk-container-id-1 div.sk-toggleable__content {max-height: 0;max-width: 0;overflow: hidden;text-align: left;background-color: #f0f8ff;}#sk-container-id-1 div.sk-toggleable__content pre {margin: 0.2em;color: black;border-radius: 0.25em;background-color: #f0f8ff;}#sk-container-id-1 input.sk-toggleable__control:checked~div.sk-toggleable__content {max-height: 200px;max-width: 100%;overflow: auto;}#sk-container-id-1 input.sk-toggleable__control:checked~label.sk-toggleable__label-arrow:before {content: \"▾\";}#sk-container-id-1 div.sk-estimator input.sk-toggleable__control:checked~label.sk-toggleable__label {background-color: #d4ebff;}#sk-container-id-1 div.sk-label input.sk-toggleable__control:checked~label.sk-toggleable__label {background-color: #d4ebff;}#sk-container-id-1 input.sk-hidden--visually {border: 0;clip: rect(1px 1px 1px 1px);clip: rect(1px, 1px, 1px, 1px);height: 1px;margin: -1px;overflow: hidden;padding: 0;position: absolute;width: 1px;}#sk-container-id-1 div.sk-estimator {font-family: monospace;background-color: #f0f8ff;border: 1px dotted black;border-radius: 0.25em;box-sizing: border-box;margin-bottom: 0.5em;}#sk-container-id-1 div.sk-estimator:hover {background-color: #d4ebff;}#sk-container-id-1 div.sk-parallel-item::after {content: \"\";width: 100%;border-bottom: 1px solid gray;flex-grow: 1;}#sk-container-id-1 div.sk-label:hover label.sk-toggleable__label {background-color: #d4ebff;}#sk-container-id-1 div.sk-serial::before {content: \"\";position: absolute;border-left: 1px solid gray;box-sizing: border-box;top: 0;bottom: 0;left: 50%;z-index: 0;}#sk-container-id-1 div.sk-serial {display: flex;flex-direction: column;align-items: center;background-color: white;padding-right: 0.2em;padding-left: 0.2em;position: relative;}#sk-container-id-1 div.sk-item {position: relative;z-index: 1;}#sk-container-id-1 div.sk-parallel {display: flex;align-items: stretch;justify-content: center;background-color: white;position: relative;}#sk-container-id-1 div.sk-item::before, #sk-container-id-1 div.sk-parallel-item::before {content: \"\";position: absolute;border-left: 1px solid gray;box-sizing: border-box;top: 0;bottom: 0;left: 50%;z-index: -1;}#sk-container-id-1 div.sk-parallel-item {display: flex;flex-direction: column;z-index: 1;position: relative;background-color: white;}#sk-container-id-1 div.sk-parallel-item:first-child::after {align-self: flex-end;width: 50%;}#sk-container-id-1 div.sk-parallel-item:last-child::after {align-self: flex-start;width: 50%;}#sk-container-id-1 div.sk-parallel-item:only-child::after {width: 0;}#sk-container-id-1 div.sk-dashed-wrapped {border: 1px dashed gray;margin: 0 0.4em 0.5em 0.4em;box-sizing: border-box;padding-bottom: 0.4em;background-color: white;}#sk-container-id-1 div.sk-label label {font-family: monospace;font-weight: bold;display: inline-block;line-height: 1.2em;}#sk-container-id-1 div.sk-label-container {text-align: center;}#sk-container-id-1 div.sk-container {/* jupyter's `normalize.less` sets `[hidden] { display: none; }` but bootstrap.min.css set `[hidden] { display: none !important; }` so we also need the `!important` here to be able to override the default hidden behavior on the sphinx rendered scikit-learn.org. See: https://github.com/scikit-learn/scikit-learn/issues/21755 */display: inline-block !important;position: relative;}#sk-container-id-1 div.sk-text-repr-fallback {display: none;}</style><div id=\"sk-container-id-1\" class=\"sk-top-container\"><div class=\"sk-text-repr-fallback\"><pre>RandomForestClassifier(max_depth=5, random_state=1)</pre><b>In a Jupyter environment, please rerun this cell to show the HTML representation or trust the notebook. <br />On GitHub, the HTML representation is unable to render, please try loading this page with nbviewer.org.</b></div><div class=\"sk-container\" hidden><div class=\"sk-item\"><div class=\"sk-estimator sk-toggleable\"><input class=\"sk-toggleable__control sk-hidden--visually\" id=\"sk-estimator-id-1\" type=\"checkbox\" checked><label for=\"sk-estimator-id-1\" class=\"sk-toggleable__label sk-toggleable__label-arrow\">RandomForestClassifier</label><div class=\"sk-toggleable__content\"><pre>RandomForestClassifier(max_depth=5, random_state=1)</pre></div></div></div></div></div>"
      ],
      "text/plain": [
       "RandomForestClassifier(max_depth=5, random_state=1)"
      ]
     },
     "execution_count": 13,
     "metadata": {},
     "output_type": "execute_result"
    }
   ],
   "source": [
    "random_forest_classifier.fit(X_train, y_train)\n"
   ]
  },
  {
   "cell_type": "markdown",
   "id": "0dbe35c7",
   "metadata": {
    "papermill": {
     "duration": 0.011318,
     "end_time": "2023-05-25T03:55:10.761098",
     "exception": false,
     "start_time": "2023-05-25T03:55:10.749780",
     "status": "completed"
    },
    "tags": []
   },
   "source": [
    "We can use our model to predict on the test data."
   ]
  },
  {
   "cell_type": "code",
   "execution_count": 14,
   "id": "f5d3a61f",
   "metadata": {
    "execution": {
     "iopub.execute_input": "2023-05-25T03:55:10.785885Z",
     "iopub.status.busy": "2023-05-25T03:55:10.785462Z",
     "iopub.status.idle": "2023-05-25T03:55:10.813980Z",
     "shell.execute_reply": "2023-05-25T03:55:10.812912Z"
    },
    "papermill": {
     "duration": 0.043639,
     "end_time": "2023-05-25T03:55:10.816286",
     "exception": false,
     "start_time": "2023-05-25T03:55:10.772647",
     "status": "completed"
    },
    "tags": []
   },
   "outputs": [
    {
     "data": {
      "text/plain": [
       "array([0, 1, 0, 0, 1, 0, 1, 0, 1, 0, 0, 0, 1, 0, 1, 1, 0, 0, 1, 1, 0, 0,\n",
       "       1, 0, 1, 0, 1, 0, 0, 0, 0, 0, 0, 0, 0, 0, 1, 1, 0, 0, 0, 0, 0, 1,\n",
       "       1, 0, 0, 0, 1, 1, 0, 0, 1, 1, 0, 0, 0, 0, 0, 1, 0, 0, 0, 1, 1, 1,\n",
       "       1, 0, 0, 1, 1, 0, 1, 0, 1, 0, 0, 1, 0, 1, 0, 0, 0, 0, 0, 0, 1, 1,\n",
       "       1, 0, 1, 0, 1, 0, 0, 0, 1, 0, 1, 0, 1, 0, 0, 0, 1, 0, 0, 0, 0, 0,\n",
       "       0, 1, 1, 1, 1, 0, 0, 1, 0, 1, 1, 0, 1, 0, 0, 1, 0, 1, 0, 0, 0, 0,\n",
       "       0, 0, 0, 0, 0, 0, 1, 0, 0, 1, 1, 0, 0, 0, 0, 0, 0, 0, 1, 0, 0, 1,\n",
       "       0, 0, 1, 1, 0, 1, 1, 0, 1, 0, 0, 1, 0, 0, 1, 1, 0, 0, 0, 0, 0, 1,\n",
       "       1, 0, 1, 1, 0, 0, 1, 0, 1, 0, 1, 0, 0, 0, 0, 0, 0, 0, 1, 0, 0, 1,\n",
       "       0, 1, 1, 0, 0, 1, 0, 0, 1, 0, 1, 0, 0, 0, 0, 1, 0, 0, 1, 0, 1, 0,\n",
       "       1, 0, 1, 0, 1, 1, 0, 1, 0, 0, 0, 1, 0, 0, 0, 0, 0, 0, 1, 1, 1, 1,\n",
       "       0, 0, 0, 0, 1, 0, 1, 1, 1, 0, 0, 0, 0, 0, 0, 0, 1, 0, 0, 0, 1, 1,\n",
       "       0, 0, 0, 0, 1, 0, 0, 0, 1, 1, 0, 1, 0, 0, 0, 0, 1, 0, 1, 1, 1, 0,\n",
       "       0, 0, 0, 0, 0, 1, 0, 0, 0, 0, 1, 0, 0, 0, 0, 0, 0, 0, 1, 1, 1, 0,\n",
       "       0, 1, 0, 0, 0, 1, 1, 1, 0, 0, 0, 0, 0, 0, 0, 0, 1, 0, 1, 0, 0, 0,\n",
       "       1, 0, 0, 1, 0, 0, 0, 0, 0, 0, 0, 0, 0, 1, 0, 1, 0, 1, 0, 1, 1, 0,\n",
       "       0, 0, 0, 0, 1, 0, 0, 1, 0, 1, 1, 0, 1, 0, 0, 1, 1, 0, 0, 1, 0, 0,\n",
       "       1, 1, 1, 0, 0, 0, 0, 0, 1, 1, 0, 1, 0, 0, 0, 0, 0, 1, 0, 0, 0, 1,\n",
       "       0, 1, 0, 0, 1, 0, 1, 0, 0, 0, 0, 0, 1, 1, 1, 1, 1, 0, 1, 0, 0, 0])"
      ]
     },
     "execution_count": 14,
     "metadata": {},
     "output_type": "execute_result"
    }
   ],
   "source": [
    "predictions_made = random_forest_classifier.predict(X_test)\n",
    "predictions_made"
   ]
  },
  {
   "cell_type": "markdown",
   "id": "41dd8c71",
   "metadata": {
    "papermill": {
     "duration": 0.011158,
     "end_time": "2023-05-25T03:55:10.838833",
     "exception": false,
     "start_time": "2023-05-25T03:55:10.827675",
     "status": "completed"
    },
    "tags": []
   },
   "source": [
    "To submit the exercise we need to write a csv with the columns: \n",
    "- Id of the passenger\n",
    "- If he survived (1) or not (0)"
   ]
  },
  {
   "cell_type": "code",
   "execution_count": 15,
   "id": "fe8240f8",
   "metadata": {
    "execution": {
     "iopub.execute_input": "2023-05-25T03:55:10.863878Z",
     "iopub.status.busy": "2023-05-25T03:55:10.862824Z",
     "iopub.status.idle": "2023-05-25T03:55:10.872005Z",
     "shell.execute_reply": "2023-05-25T03:55:10.870844Z"
    },
    "papermill": {
     "duration": 0.024529,
     "end_time": "2023-05-25T03:55:10.874681",
     "exception": false,
     "start_time": "2023-05-25T03:55:10.850152",
     "status": "completed"
    },
    "tags": []
   },
   "outputs": [
    {
     "data": {
      "text/plain": [
       "0       892\n",
       "1       893\n",
       "2       894\n",
       "3       895\n",
       "4       896\n",
       "       ... \n",
       "413    1305\n",
       "414    1306\n",
       "415    1307\n",
       "416    1308\n",
       "417    1309\n",
       "Name: PassengerId, Length: 418, dtype: int64"
      ]
     },
     "execution_count": 15,
     "metadata": {},
     "output_type": "execute_result"
    }
   ],
   "source": [
    "df_test.PassengerId"
   ]
  },
  {
   "cell_type": "markdown",
   "id": "7758633d",
   "metadata": {
    "execution": {
     "iopub.execute_input": "2023-05-25T03:49:24.728638Z",
     "iopub.status.busy": "2023-05-25T03:49:24.728170Z",
     "iopub.status.idle": "2023-05-25T03:49:24.737978Z",
     "shell.execute_reply": "2023-05-25T03:49:24.736414Z",
     "shell.execute_reply.started": "2023-05-25T03:49:24.728604Z"
    },
    "papermill": {
     "duration": 0.011484,
     "end_time": "2023-05-25T03:55:10.898651",
     "exception": false,
     "start_time": "2023-05-25T03:55:10.887167",
     "status": "completed"
    },
    "tags": []
   },
   "source": [
    "With the passengers id and the predictions, we can create a DataFrame that will be the submission"
   ]
  },
  {
   "cell_type": "code",
   "execution_count": 16,
   "id": "6bb5384d",
   "metadata": {
    "execution": {
     "iopub.execute_input": "2023-05-25T03:55:10.924922Z",
     "iopub.status.busy": "2023-05-25T03:55:10.924551Z",
     "iopub.status.idle": "2023-05-25T03:55:10.935991Z",
     "shell.execute_reply": "2023-05-25T03:55:10.934880Z"
    },
    "papermill": {
     "duration": 0.027577,
     "end_time": "2023-05-25T03:55:10.938372",
     "exception": false,
     "start_time": "2023-05-25T03:55:10.910795",
     "status": "completed"
    },
    "tags": []
   },
   "outputs": [
    {
     "data": {
      "text/html": [
       "<div>\n",
       "<style scoped>\n",
       "    .dataframe tbody tr th:only-of-type {\n",
       "        vertical-align: middle;\n",
       "    }\n",
       "\n",
       "    .dataframe tbody tr th {\n",
       "        vertical-align: top;\n",
       "    }\n",
       "\n",
       "    .dataframe thead th {\n",
       "        text-align: right;\n",
       "    }\n",
       "</style>\n",
       "<table border=\"1\" class=\"dataframe\">\n",
       "  <thead>\n",
       "    <tr style=\"text-align: right;\">\n",
       "      <th></th>\n",
       "      <th>PassengerId</th>\n",
       "      <th>Survived</th>\n",
       "    </tr>\n",
       "  </thead>\n",
       "  <tbody>\n",
       "    <tr>\n",
       "      <th>0</th>\n",
       "      <td>892</td>\n",
       "      <td>0</td>\n",
       "    </tr>\n",
       "    <tr>\n",
       "      <th>1</th>\n",
       "      <td>893</td>\n",
       "      <td>1</td>\n",
       "    </tr>\n",
       "    <tr>\n",
       "      <th>2</th>\n",
       "      <td>894</td>\n",
       "      <td>0</td>\n",
       "    </tr>\n",
       "    <tr>\n",
       "      <th>3</th>\n",
       "      <td>895</td>\n",
       "      <td>0</td>\n",
       "    </tr>\n",
       "    <tr>\n",
       "      <th>4</th>\n",
       "      <td>896</td>\n",
       "      <td>1</td>\n",
       "    </tr>\n",
       "  </tbody>\n",
       "</table>\n",
       "</div>"
      ],
      "text/plain": [
       "   PassengerId  Survived\n",
       "0          892         0\n",
       "1          893         1\n",
       "2          894         0\n",
       "3          895         0\n",
       "4          896         1"
      ]
     },
     "execution_count": 16,
     "metadata": {},
     "output_type": "execute_result"
    }
   ],
   "source": [
    "df_submission_proposal = pd.DataFrame(\n",
    "    {\n",
    "        \"PassengerId\": df_test.PassengerId,\n",
    "        \"Survived\": predictions_made\n",
    "    }\n",
    ")\n",
    "df_submission_proposal.head(5)"
   ]
  },
  {
   "cell_type": "markdown",
   "id": "e201a044",
   "metadata": {
    "papermill": {
     "duration": 0.011422,
     "end_time": "2023-05-25T03:55:10.961787",
     "exception": false,
     "start_time": "2023-05-25T03:55:10.950365",
     "status": "completed"
    },
    "tags": []
   },
   "source": [
    "We have to save the DataFrame with the predictions in a csv. "
   ]
  },
  {
   "cell_type": "code",
   "execution_count": 17,
   "id": "31b660d5",
   "metadata": {
    "execution": {
     "iopub.execute_input": "2023-05-25T03:55:10.987068Z",
     "iopub.status.busy": "2023-05-25T03:55:10.986668Z",
     "iopub.status.idle": "2023-05-25T03:55:10.998487Z",
     "shell.execute_reply": "2023-05-25T03:55:10.997538Z"
    },
    "papermill": {
     "duration": 0.027929,
     "end_time": "2023-05-25T03:55:11.001515",
     "exception": false,
     "start_time": "2023-05-25T03:55:10.973586",
     "status": "completed"
    },
    "tags": []
   },
   "outputs": [],
   "source": [
    "df_submission_proposal.to_csv('submission.csv', index=False)"
   ]
  }
 ],
 "metadata": {
  "kernelspec": {
   "display_name": "Python 3",
   "language": "python",
   "name": "python3"
  },
  "language_info": {
   "codemirror_mode": {
    "name": "ipython",
    "version": 3
   },
   "file_extension": ".py",
   "mimetype": "text/x-python",
   "name": "python",
   "nbconvert_exporter": "python",
   "pygments_lexer": "ipython3",
   "version": "3.10.10"
  },
  "papermill": {
   "default_parameters": {},
   "duration": 17.8889,
   "end_time": "2023-05-25T03:55:12.040087",
   "environment_variables": {},
   "exception": null,
   "input_path": "__notebook__.ipynb",
   "output_path": "__notebook__.ipynb",
   "parameters": {},
   "start_time": "2023-05-25T03:54:54.151187",
   "version": "2.4.0"
  }
 },
 "nbformat": 4,
 "nbformat_minor": 5
}
